{
 "cells": [
  {
   "cell_type": "code",
   "execution_count": 1,
   "metadata": {},
   "outputs": [],
   "source": [
    "from qcodes import Instrument\n",
    "#from qcodes_contrib_drivers.drivers.ERAInstruments import ERASynthPlusPlus\n",
    "from ERASynthPP_driver import ERASynthPlusPlus\n"
   ]
  },
  {
   "cell_type": "code",
   "execution_count": 3,
   "metadata": {},
   "outputs": [
    {
     "name": "stdout",
     "output_type": "stream",
     "text": [
      "('ASRL/dev/ttyS0::INSTR', 'ASRL/dev/ttyS1::INSTR', 'ASRL/dev/ttyS2::INSTR', 'ASRL/dev/ttyS3::INSTR', 'ASRL/dev/ttyS4::INSTR', 'ASRL/dev/ttyS5::INSTR', 'ASRL/dev/ttyS6::INSTR', 'ASRL/dev/ttyS7::INSTR', 'ASRL/dev/ttyS8::INSTR', 'ASRL/dev/ttyS9::INSTR', 'ASRL/dev/ttyS10::INSTR', 'ASRL/dev/ttyS11::INSTR', 'ASRL/dev/ttyS12::INSTR', 'ASRL/dev/ttyS13::INSTR', 'ASRL/dev/ttyS14::INSTR', 'ASRL/dev/ttyS15::INSTR', 'ASRL/dev/ttyS16::INSTR', 'ASRL/dev/ttyS17::INSTR', 'ASRL/dev/ttyS18::INSTR', 'ASRL/dev/ttyS19::INSTR', 'ASRL/dev/ttyS20::INSTR', 'ASRL/dev/ttyS21::INSTR', 'ASRL/dev/ttyS22::INSTR', 'ASRL/dev/ttyS23::INSTR', 'ASRL/dev/ttyS24::INSTR', 'ASRL/dev/ttyS25::INSTR', 'ASRL/dev/ttyS26::INSTR', 'ASRL/dev/ttyS27::INSTR', 'ASRL/dev/ttyS28::INSTR', 'ASRL/dev/ttyS29::INSTR', 'ASRL/dev/ttyS30::INSTR', 'ASRL/dev/ttyS31::INSTR', 'ASRL/dev/ttyACM0::INSTR', 'TCPIP::192.168.0.236::INSTR', 'TCPIP::192.168.250.40::INSTR')\n",
      "Connected to: ERA Instruments ERASynth++ (serial:0081, firmware:v1.0.18) in 0.33s\n",
      "ERASynthPlusPlus:\n",
      "\tparameter                 value\n",
      "--------------------------------------------------------------------------------\n",
      "IDN                        :\t{'vendor': 'ERA Instruments', 'model': 'ERASynth...\n",
      "current                    :\t0.22 (V)\n",
      "debug_messages_en          :\tFalse \n",
      "embedded_version           :\tv1.0.18 \n",
      "frequency                  :\t8000000000 (Hz)\n",
      "modulation_am_depth        :\t20 (%)\n",
      "modulation_en              :\tFalse \n",
      "modulation_fm_deviation    :\t5000 (Hz)\n",
      "modulation_freq            :\t1000 (Hz)\n",
      "modulation_pulse_period    :\t0.002 (s)\n",
      "modulation_pulse_width     :\t0.001 (s)\n",
      "modulation_signal_waveform :\tsine \n",
      "modulation_source          :\tinternal \n",
      "modulation_type            :\tnarrowband_fm \n",
      "pll_lmx1_status            :\tunlocked \n",
      "pll_lmx2_status            :\tunlocked \n",
      "pll_xtal_status            :\tlocked \n",
      "power                      :\t-35 (dBm)\n",
      "ref_osc_source             :\tint \n",
      "reference_tcxo_ocxo        :\ttcxo \n",
      "status                     :\tFalse \n",
      "sweep_dwell                :\t1 (s)\n",
      "sweep_en                   :\tFalse \n",
      "sweep_start_frequency      :\t1000000000 (Hz)\n",
      "sweep_step_frequency       :\t1000000000 (Hz)\n",
      "sweep_stop_frequency       :\t6000000000 (Hz)\n",
      "sweep_trigger              :\tfreerun \n",
      "synthesizer_mode           :\tlow_spurious \n",
      "temperature                :\t30.0 (°C)\n",
      "timeout                    :\t10 (s)\n",
      "voltage                    :\t5.23 (V)\n",
      "wifi_gateway_address       :\t222.222.222.222 \n",
      "wifi_hotspot_password      :\t \n",
      "wifi_hotspot_ssid          :\t \n",
      "wifi_ip_address            :\t222.222.222.222 \n",
      "wifi_mode                  :\t \n",
      "wifi_rssi                  :\t \n",
      "wifi_station_password      :\t \n",
      "wifi_station_ssid          :\t \n",
      "wifi_subnet_address        :\t222.222.222.222 \n"
     ]
    }
   ],
   "source": [
    "Instrument.close_all()\n",
    "# list communication ports\n",
    "ERASynthPlusPlus.print_pyvisa_resources()\n",
    "\n",
    "# Instantiate the instrument\n",
    "#lo = ERASynthPlusPlus('ERASynthPlusPlus', 'ASRL10::INSTR')\n",
    "lo = ERASynthPlusPlus('ERASynthPlusPlus', 'ASRL/dev/ttyACM0::INSTR')\n",
    "lo.off()  # Turn off the output\n",
    "\n",
    "# print updated snapshot once to make sure the snapshot will be up-to-date\n",
    "# takes a few seconds\n",
    "#lo.print_readable_snapshot(update=True)\n",
    "\n",
    "# Configure the local oscillator\n",
    "lo.ref_osc_source(\"int\")  # Use internal reference\n",
    "#lo.frequency(6e9)\n",
    "lo.set_RF(8e9)\n",
    "#lo.power(-30)  # Set the amplitude to 10 dBm\n",
    "lo.set_level(-35)\n",
    "lo.off()  # Turn on the output\n",
    "lo.print_readable_snapshot(update=True)\n",
    "\n",
    "#lo.print_readable_snapshot(update=True)\n",
    "print(lo.get_idn())\n",
    "lo.get_diagnostic_status('serial_number')"
   ]
  },
  {
   "cell_type": "code",
   "execution_count": 5,
   "metadata": {},
   "outputs": [
    {
     "ename": "AttributeError",
     "evalue": "'ERASynthPlusPlus' object and its delegates have no attribute 'status'",
     "output_type": "error",
     "traceback": [
      "\u001b[0;31m---------------------------------------------------------------------------\u001b[0m",
      "\u001b[0;31mAttributeError\u001b[0m                            Traceback (most recent call last)",
      "Cell \u001b[0;32mIn[5], line 1\u001b[0m\n\u001b[0;32m----> 1\u001b[0m \u001b[43mlo\u001b[49m\u001b[38;5;241;43m.\u001b[39;49m\u001b[43moff\u001b[49m\u001b[43m(\u001b[49m\u001b[43m)\u001b[49m\n\u001b[1;32m      2\u001b[0m lo\u001b[38;5;241m.\u001b[39mclose()\n",
      "File \u001b[0;32m~/Documents/_Py_Projects/QChrct_Extra/QCharacterization/ERASynthPP_driver.py:503\u001b[0m, in \u001b[0;36mERASynthBase.off\u001b[0;34m(self)\u001b[0m\n\u001b[1;32m    499\u001b[0m \u001b[38;5;28;01mdef\u001b[39;00m \u001b[38;5;21moff\u001b[39m(\u001b[38;5;28mself\u001b[39m) \u001b[38;5;241m-\u001b[39m\u001b[38;5;241m>\u001b[39m \u001b[38;5;28;01mNone\u001b[39;00m:\n\u001b[1;32m    500\u001b[0m \u001b[38;5;250m    \u001b[39m\u001b[38;5;124;03m\"\"\"\u001b[39;00m\n\u001b[1;32m    501\u001b[0m \u001b[38;5;124;03m    Turns OFF the RF output.\u001b[39;00m\n\u001b[1;32m    502\u001b[0m \u001b[38;5;124;03m    \"\"\"\u001b[39;00m\n\u001b[0;32m--> 503\u001b[0m     \u001b[38;5;28;43mself\u001b[39;49m\u001b[38;5;241;43m.\u001b[39;49m\u001b[43mstatus\u001b[49m(\u001b[38;5;28;01mFalse\u001b[39;00m)\n",
      "File \u001b[0;32m~/Documents/_Py_Projects/QChrct_Extra/QCharacterization/.venv/lib/python3.12/site-packages/qcodes/utils/attribute_helpers.py:71\u001b[0m, in \u001b[0;36mDelegateAttributes.__getattr__\u001b[0;34m(self, key)\u001b[0m\n\u001b[1;32m     68\u001b[0m     \u001b[38;5;28;01mexcept\u001b[39;00m \u001b[38;5;167;01mAttributeError\u001b[39;00m:\n\u001b[1;32m     69\u001b[0m         \u001b[38;5;28;01mpass\u001b[39;00m\n\u001b[0;32m---> 71\u001b[0m \u001b[38;5;28;01mraise\u001b[39;00m \u001b[38;5;167;01mAttributeError\u001b[39;00m(\n\u001b[1;32m     72\u001b[0m     \u001b[38;5;124mf\u001b[39m\u001b[38;5;124m\"\u001b[39m\u001b[38;5;124m'\u001b[39m\u001b[38;5;132;01m{\u001b[39;00m\u001b[38;5;28mself\u001b[39m\u001b[38;5;241m.\u001b[39m\u001b[38;5;18m__class__\u001b[39m\u001b[38;5;241m.\u001b[39m\u001b[38;5;18m__name__\u001b[39m\u001b[38;5;132;01m}\u001b[39;00m\u001b[38;5;124m'\u001b[39m\u001b[38;5;124m object and its delegates have no attribute \u001b[39m\u001b[38;5;124m'\u001b[39m\u001b[38;5;132;01m{\u001b[39;00mkey\u001b[38;5;132;01m}\u001b[39;00m\u001b[38;5;124m'\u001b[39m\u001b[38;5;124m\"\u001b[39m\n\u001b[1;32m     73\u001b[0m )\n",
      "\u001b[0;31mAttributeError\u001b[0m: 'ERASynthPlusPlus' object and its delegates have no attribute 'status'"
     ]
    }
   ],
   "source": [
    "lo.off()\n",
    "lo.close()"
   ]
  },
  {
   "cell_type": "code",
   "execution_count": 2,
   "metadata": {},
   "outputs": [
    {
     "name": "stdout",
     "output_type": "stream",
     "text": [
      "('ASRL/dev/ttyS0::INSTR', 'ASRL/dev/ttyS1::INSTR', 'ASRL/dev/ttyS2::INSTR', 'ASRL/dev/ttyS3::INSTR', 'ASRL/dev/ttyS4::INSTR', 'ASRL/dev/ttyS5::INSTR', 'ASRL/dev/ttyS6::INSTR', 'ASRL/dev/ttyS7::INSTR', 'ASRL/dev/ttyS8::INSTR', 'ASRL/dev/ttyS9::INSTR', 'ASRL/dev/ttyS10::INSTR', 'ASRL/dev/ttyS11::INSTR', 'ASRL/dev/ttyS12::INSTR', 'ASRL/dev/ttyS13::INSTR', 'ASRL/dev/ttyS14::INSTR', 'ASRL/dev/ttyS15::INSTR', 'ASRL/dev/ttyS16::INSTR', 'ASRL/dev/ttyS17::INSTR', 'ASRL/dev/ttyS18::INSTR', 'ASRL/dev/ttyS19::INSTR', 'ASRL/dev/ttyS20::INSTR', 'ASRL/dev/ttyS21::INSTR', 'ASRL/dev/ttyS22::INSTR', 'ASRL/dev/ttyS23::INSTR', 'ASRL/dev/ttyS24::INSTR', 'ASRL/dev/ttyS25::INSTR', 'ASRL/dev/ttyS26::INSTR', 'ASRL/dev/ttyS27::INSTR', 'ASRL/dev/ttyS28::INSTR', 'ASRL/dev/ttyS29::INSTR', 'ASRL/dev/ttyS30::INSTR', 'ASRL/dev/ttyS31::INSTR', 'ASRL/dev/ttyACM0::INSTR', 'TCPIP::192.168.0.236::INSTR', 'TCPIP::192.168.250.40::INSTR')\n",
      "Connected to: ERA Instruments ERASynth++ (serial:0081, firmware:v1.0.18) in 0.41s\n"
     ]
    }
   ],
   "source": [
    "ERASynthPlusPlus.print_pyvisa_resources()\n",
    "#lo = ERASynthPlusPlus('ERASynthPlusPlus', 'ASRL10::INSTR')\n",
    "lo = ERASynthPlusPlus('ERASynthPlusPlus', 'ASRL/dev/ttyACM0::INSTR')"
   ]
  },
  {
   "cell_type": "code",
   "execution_count": 12,
   "metadata": {},
   "outputs": [
    {
     "name": "stdout",
     "output_type": "stream",
     "text": [
      "{'vendor': 'ERA Instruments', 'model': 'ERASynth++', 'serial': '0081', 'firmware': 'v1.0.18'}\n"
     ]
    },
    {
     "data": {
      "text/plain": [
       "'0081'"
      ]
     },
     "execution_count": 12,
     "metadata": {},
     "output_type": "execute_result"
    }
   ],
   "source": [
    "print(lo.get_idn())\n",
    "lo.get_diagnostic_status('serial_number')\n",
    "#lo.print_readable_snapshot(update=True)\n"
   ]
  },
  {
   "cell_type": "code",
   "execution_count": null,
   "metadata": {},
   "outputs": [],
   "source": [
    "from ERASynth_driver import *\n",
    "from time import sleep\n",
    "\n",
    "\n",
    "# For era synth\n",
    "lo = ERASynth_driver(port='COM10', baudrate=9600) # it should be 9600, however\n",
    "                                  # it could be COM4, COM3 or other number\n",
    "                                  # at the end of COM.\n",
    "sleep(1)\n",
    "lo.open()\n",
    "#lo.log()\n"
   ]
  },
  {
   "cell_type": "code",
   "execution_count": null,
   "metadata": {},
   "outputs": [],
   "source": [
    "import serial\n",
    "ser = serial.Serial()\n",
    "ser.port = \"COM10\"\n",
    "ser.baudrate = 9600\n",
    "ser.open()\n",
    "ser.isOpen()\n",
    "#ser.close()\n"
   ]
  },
  {
   "cell_type": "code",
   "execution_count": null,
   "metadata": {},
   "outputs": [],
   "source": [
    "ser.close()\n",
    "ser.isOpen()"
   ]
  }
 ],
 "metadata": {
  "kernelspec": {
   "display_name": ".venv",
   "language": "python",
   "name": "python3"
  },
  "language_info": {
   "codemirror_mode": {
    "name": "ipython",
    "version": 3
   },
   "file_extension": ".py",
   "mimetype": "text/x-python",
   "name": "python",
   "nbconvert_exporter": "python",
   "pygments_lexer": "ipython3",
   "version": "3.12.3"
  }
 },
 "nbformat": 4,
 "nbformat_minor": 2
}
