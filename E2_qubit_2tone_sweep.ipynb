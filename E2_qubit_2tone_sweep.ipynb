{
 "cells": [
  {
   "cell_type": "markdown",
   "id": "e1dc27c5",
   "metadata": {},
   "source": [
    "# Qubit Two Tone Frequency Sweep\n",
    "\n",
    "Run a sweep over the local oscillator frequency and power while reading the change in the response of the resonator. The readout needs to be set at the frequency at which the resonance is observed (for the given flux value used), ideally at the qubit sweet spot."
   ]
  },
  {
   "cell_type": "code",
   "execution_count": 1,
   "id": "cae4e041-cd49-4df6-876e-f9abff509578",
   "metadata": {},
   "outputs": [],
   "source": [
    "import numpy as np\n",
    "import matplotlib.pyplot as plt\n",
    "from HelpModule import *\n",
    "import HelpModule  as help\n",
    "from E5080B_driver import *\n",
    "from ZNB26_driver import *\n",
    "from SGS100A_driver import *\n",
    "from ERASynthPP_driver import ERASynthPlusPlus\n",
    "from qcodes import Instrument\n",
    "from IPython.display import clear_output\n",
    "from time import sleep\n"
   ]
  },
  {
   "cell_type": "code",
   "execution_count": 8,
   "id": "61668bce",
   "metadata": {},
   "outputs": [
    {
     "name": "stdout",
     "output_type": "stream",
     "text": [
      "('ASRL/dev/ttyS0::INSTR', 'ASRL/dev/ttyS1::INSTR', 'ASRL/dev/ttyS2::INSTR', 'ASRL/dev/ttyS3::INSTR', 'ASRL/dev/ttyS4::INSTR', 'ASRL/dev/ttyS5::INSTR', 'ASRL/dev/ttyS6::INSTR', 'ASRL/dev/ttyS7::INSTR', 'ASRL/dev/ttyS8::INSTR', 'ASRL/dev/ttyS9::INSTR', 'ASRL/dev/ttyS10::INSTR', 'ASRL/dev/ttyS11::INSTR', 'ASRL/dev/ttyS12::INSTR', 'ASRL/dev/ttyS13::INSTR', 'ASRL/dev/ttyS14::INSTR', 'ASRL/dev/ttyS15::INSTR', 'ASRL/dev/ttyS16::INSTR', 'ASRL/dev/ttyS17::INSTR', 'ASRL/dev/ttyS18::INSTR', 'ASRL/dev/ttyS19::INSTR', 'ASRL/dev/ttyS20::INSTR', 'ASRL/dev/ttyS21::INSTR', 'ASRL/dev/ttyS22::INSTR', 'ASRL/dev/ttyS23::INSTR', 'ASRL/dev/ttyS24::INSTR', 'ASRL/dev/ttyS25::INSTR', 'ASRL/dev/ttyS26::INSTR', 'ASRL/dev/ttyS27::INSTR', 'ASRL/dev/ttyS28::INSTR', 'ASRL/dev/ttyS29::INSTR', 'ASRL/dev/ttyS30::INSTR', 'ASRL/dev/ttyS31::INSTR', 'ASRL/dev/ttyACM0::INSTR', 'TCPIP::192.168.0.236::INSTR', 'TCPIP::192.168.250.40::INSTR')\n",
      "Connected to: ERA Instruments ERASynth++ (serial:0081, firmware:v1.0.18) in 0.37s\n"
     ]
    }
   ],
   "source": [
    "print(pyvisa.ResourceManager().list_resources())\n",
    "lo = ERASynthPlusPlus('ERASynthPlusPlus', 'ASRL/dev/ttyACM0::INSTR')"
   ]
  },
  {
   "cell_type": "code",
   "execution_count": 10,
   "id": "57ac97e1",
   "metadata": {},
   "outputs": [],
   "source": [
    "lo.close()"
   ]
  },
  {
   "cell_type": "code",
   "execution_count": 2,
   "id": "2e737b98-2b0d-4267-8e84-f3210f307362",
   "metadata": {},
   "outputs": [
    {
     "name": "stdout",
     "output_type": "stream",
     "text": [
      "Connected to: ERA Instruments ERASynth++ (serial:0081, firmware:v1.0.18) in 1.94s\n",
      "Could not connect to dummy\n"
     ]
    },
    {
     "name": "stderr",
     "output_type": "stream",
     "text": [
      "/home/user/Documents/_Py_Projects/QChrct_Extra/QCharacterization/.venv/lib/python3.12/site-packages/pyvisa/resources/messagebased.py:647: UserWarning: read string doesn't end with termination characters\n",
      "  return self.read()\n"
     ]
    }
   ],
   "source": [
    "Instrument.close_all()\n",
    "\n",
    "#lo = SGS100A_driver('TCPIP0::192.168.0.36::inst0::INSTR')\n",
    "#lo = ERASynthPlusPlus('ERASynthPlusPlus', 'ASRL10::INSTR')\n",
    "lo = ERASynthPlusPlus('ERASynthPlusPlus', 'ASRL/dev/ttyACM0::INSTR')\n",
    "#vna = E5080B_driver('TCPIP0::192.168.0.235::inst0::INSTR')\n",
    "vna = ZNB26_driver('TCPIP0::192.168.0.236::inst0::INSTR')\n",
    "meas_ = 'S21'\n",
    "twpa_on = False\n",
    "if twpa_on:\n",
    "    twpa = SGS100A_driver('TCPIP0::192.168.0.39::inst0::INSTR')\n",
    "else:\n",
    "    twpa = SGS100A_driver('dummy')\n",
    "    \n",
    "vna.open()\n",
    "#lo.open()#Removed                              for ERASynh\n",
    "f_c = 0"
   ]
  },
  {
   "cell_type": "markdown",
   "id": "78540da5-10a8-4a90-ab2a-2b509d7285fa",
   "metadata": {},
   "source": [
    "## Two tone frequency sweep\n",
    "Run a sweep over the local oscillator while reading the change in the response of the resonator. The readout needs to be set at the frequency at which the resonance is observed (for the given flux value used), ideally at the qubit sweet spot.\n",
    "\n",
    "We find this frequency by measuring a broad spectrum and extracting from it the highest uality peak, normally associated to the principal resonance of the CPW resonator."
   ]
  },
  {
   "cell_type": "code",
   "execution_count": 3,
   "id": "54e8dec6-2fe6-4384-8d7f-c48a02c36848",
   "metadata": {},
   "outputs": [
    {
     "name": "stdout",
     "output_type": "stream",
     "text": [
      "Center frequency: 5828918000.00 Hz\n",
      "Quality Factor: 5442.988\n"
     ]
    },
    {
     "name": "stderr",
     "output_type": "stream",
     "text": [
      "/home/user/Documents/_Py_Projects/QChrct_Extra/QCharacterization/HelpModule.py:145: RuntimeWarning:\n",
      "\n",
      "divide by zero encountered in log10\n",
      "\n"
     ]
    }
   ],
   "source": [
    "from datetime import datetime\n",
    "params={}\n",
    "\n",
    "params['test_date'] = datetime.today().strftime('%Y%m%d_%H%M')\n",
    "params['test_type'] = 'twotone_fpsweep'\n",
    "\n",
    "# Qubit Parameters\n",
    "params['qubit_name'] = 'QPU-09_NbTi_2q-single-drive_Q1'\n",
    "params['qubit_power'] = -40\n",
    "\n",
    "params['twpa_power'] = 1.42\n",
    "params['twpa_frequency'] = 6542.23\n",
    "params['twpa_on'] = False\n",
    "params['vna_power'] = -60\n",
    "params['center_freq'] = 5.828918e9 \n",
    "params['span_freq'] = 10\n",
    "params['flux_curr'] = 0\n",
    "params['temp'] = 10\n",
    "params['comment'] = \"# _\\n\" +\\\n",
    "                    \"# Twpa is OFF\" +\\\n",
    "                    \"# \" +\\\n",
    "                    \"# \" +\\\n",
    "                    \"# \\n\"\n",
    "\n",
    "# Test Parameters\n",
    "params['qubitFreqInitial'] = 3000\n",
    "params['qubitFreqFinal'] = 4000\n",
    "params['qubitFreqStep'] = 10\n",
    "\n",
    "\n",
    "if params['twpa_on']:\n",
    "    twpa.setup(params['twpa_frequency'], params['twpa_power'])\n",
    "\n",
    "f_c = 0\n",
    "# if f_c == 0:\n",
    "#     with twpa:\n",
    "#         freqs, mag_lp, phase = meas_spectrum(vna, params['center_freq']   ,f_span=params['span_freq'], power=params['vna_power'], npoints=201,sleep_t = 5, meas = meas_)\n",
    "#         f_c, Qf, FWHMf, mag_dB_minf, figf, fig_dBf = Q(freqs,mag_lp.max()-mag_lp, True) #f_c, Q, FWHM, mag_dB_min, fig, fig_dB\n",
    "\n",
    "freqs, mag_lp, phase = meas_spectrum(vna, params['center_freq']   ,f_span=params['span_freq'], power=params['vna_power'], npoints=201,sleep_t = 5, meas = meas_)\n",
    "f_c, Qf, FWHMf, mag_dB_minf, figf, fig_dBf = Q(freqs,mag_lp.max()-mag_lp, True)\n",
    "\n",
    "print('Center frequency: %2.2f Hz'%f_c)\n",
    "print('Quality Factor: %2.3f'%Qf)"
   ]
  },
  {
   "cell_type": "markdown",
   "id": "473a8b1f",
   "metadata": {},
   "source": [
    "At this frequency we seep the drive carrier (Local Oscillator) to excite qubit and doing so affect the response seen at the resonator.\n",
    "\n",
    "## Set test parameters"
   ]
  },
  {
   "cell_type": "code",
   "execution_count": 4,
   "id": "15625ac6-7bec-4038-adef-b0ce7d47f578",
   "metadata": {},
   "outputs": [
    {
     "name": "stdout",
     "output_type": "stream",
     "text": [
      "Estimated time: 3.33 min\n",
      "0.015477871266333335\n"
     ]
    }
   ],
   "source": [
    "qubitFreq_array = np.arange(params['qubitFreqInitial'],params['qubitFreqFinal'],params['qubitFreqStep'])\n",
    "\n",
    "# Check that the f of the resonator is correct \n",
    "if f_c == 0:\n",
    "    with twpa:\n",
    "        freqs, mag, phase = meas_spectrum(vna, params['center_freq'] ,f_span=params['span_freq'],power=params['vna_power'], npoints=201,sleep_t = 5, data_format='MA',  meas = meas_)\n",
    "    f_c, Qf, fwhm = Q(freqs,mag.max()-mag, True)\n",
    "\n",
    "#Initialize the VNA for the 2tone measurement\n",
    "with twpa:\n",
    "    freqs, mag, phase = meas_spectrum(vna, \n",
    "                       f_c = f_c, \n",
    "                       f_span= 10e-6, # VNA in unit MHz\n",
    "                       power = params['vna_power'],\n",
    "                       npoints = 3, \n",
    "                       sleep_t = 3,  meas = meas_)\n",
    "\n",
    "#Initialize the Local Oscillator\n",
    "#lo.open()\n",
    "lo.set_level(params['qubit_power']) # dBm\n",
    "#lo.close()\n",
    "\n",
    "maxv = np.mean(mag)\n",
    "\n",
    "#Initialize variables for storage\n",
    "mags = np.ndarray(len(qubitFreq_array))\n",
    "phases = np.ndarray(len(qubitFreq_array))\n",
    "\n",
    "mags[:] = maxv\n",
    "phases[:] = 0\n",
    "\n",
    "# Run Sweep\n",
    "delay = 1.5\n",
    "tt = len(qubitFreq_array)*(delay+0.5)\n",
    "print('Estimated time: %2.2f min'%(tt/60))\n",
    "print(maxv)\n"
   ]
  },
  {
   "cell_type": "code",
   "execution_count": 5,
   "id": "a4da0e8e",
   "metadata": {},
   "outputs": [
    {
     "data": {
      "application/vnd.plotly.v1+json": {
       "config": {
        "plotlyServerURL": "https://plot.ly"
       },
       "data": [
        {
         "line": {
          "color": "Red",
          "width": 0.5
         },
         "marker": {
          "color": [
           0.02849307714133333,
           0.028587527212,
           0.027448121434666666,
           0.029044978098,
           0.028252589788666665,
           0.028831829007,
           0.028484148578,
           0.026297009199333334,
           0.025124994085333335,
           0.029676342645000003,
           0.030716264617333334,
           0.02850992141733334,
           0.027417813136000002,
           0.027956507539666664,
           0.02831527391366666,
           0.032081106469000004,
           0.026121225727333334,
           0.030132782799000002,
           0.02992738074433333,
           0.031109511803666667,
           0.028445927968666667,
           0.030797119413333334,
           0.06810985812933334,
           0.04931877416866667,
           0.03133741890866667,
           0.028421245919,
           0.030339355395666668,
           0.029276810543000003,
           0.028495647761333332,
           0.029260978893,
           0.030773119541666668,
           0.029910837464666665,
           0.030781740883333335,
           0.055713098545,
           0.15070265615333334,
           0.03162384298266667,
           0.028693778050666665,
           0.02602774300433333,
           0.030773182940666666,
           0.030958561880000002,
           0.03269657587066666,
           0.029413997826333332,
           0.04264613304833333,
           0.09212442251133333,
           0.38558024616666664,
           0.4738691071699999,
           0.24098973589000003,
           0.07531599863166666,
           0.041832125519,
           0.03363071354366667,
           0.033077360162000004,
           0.02609815762266667,
           0.030147660919333335,
           0.03248892524066667,
           0.02970030910233333,
           0.026287529682,
           0.028273782827000004,
           0.033210207683,
           0.027010074687333335,
           0.029711636908666666,
           0.031556208764333335,
           0.02837457168966667,
           0.027695296174666668,
           0.028163016589666672,
           0.028348844065,
           0.028255978903,
           0.029441919974666664,
           0.03774041712,
           0.027702293509,
           0.031686721526,
           0.032078988044,
           0.027345633286666667,
           0.02746315392566667,
           0.028190548660333336,
           0.02668918681766667,
           0.02967387697,
           0.027393094333666667,
           0.028704061136000002,
           0.028422279780666665,
           0.028089039161333332,
           0.028929709454999997,
           0.029233991497,
           0.027669204911,
           0.026220908334333336,
           0.025758046655333332,
           0.029400880093,
           0.028159741904333332,
           0.029184761578,
           0.023275739307,
           0.029847798832666667,
           0.026504392004,
           0.031270653956333334,
           0.026231441796666668,
           0.029026342759666663,
           0.02733609444033333,
           0.02778118194,
           0.024830716710333333,
           0.030780896719999996,
           0.028706718669333334,
           0.025976514039000004
          ],
          "colorscale": [
           [
            0,
            "rgb(0,0,255)"
           ],
           [
            1,
            "rgb(255,0,0)"
           ]
          ],
          "size": 5
         },
         "mode": "lines+markers",
         "type": "scatter",
         "x": [
          3000,
          3010,
          3020,
          3030,
          3040,
          3050,
          3060,
          3070,
          3080,
          3090,
          3100,
          3110,
          3120,
          3130,
          3140,
          3150,
          3160,
          3170,
          3180,
          3190,
          3200,
          3210,
          3220,
          3230,
          3240,
          3250,
          3260,
          3270,
          3280,
          3290,
          3300,
          3310,
          3320,
          3330,
          3340,
          3350,
          3360,
          3370,
          3380,
          3390,
          3400,
          3410,
          3420,
          3430,
          3440,
          3450,
          3460,
          3470,
          3480,
          3490,
          3500,
          3510,
          3520,
          3530,
          3540,
          3550,
          3560,
          3570,
          3580,
          3590,
          3600,
          3610,
          3620,
          3630,
          3640,
          3650,
          3660,
          3670,
          3680,
          3690,
          3700,
          3710,
          3720,
          3730,
          3740,
          3750,
          3760,
          3770,
          3780,
          3790,
          3800,
          3810,
          3820,
          3830,
          3840,
          3850,
          3860,
          3870,
          3880,
          3890,
          3900,
          3910,
          3920,
          3930,
          3940,
          3950,
          3960,
          3970,
          3980,
          3990
         ],
         "y": [
          0.02849307714133333,
          0.028587527212,
          0.027448121434666666,
          0.029044978098,
          0.028252589788666665,
          0.028831829007,
          0.028484148578,
          0.026297009199333334,
          0.025124994085333335,
          0.029676342645000003,
          0.030716264617333334,
          0.02850992141733334,
          0.027417813136000002,
          0.027956507539666664,
          0.02831527391366666,
          0.032081106469000004,
          0.026121225727333334,
          0.030132782799000002,
          0.02992738074433333,
          0.031109511803666667,
          0.028445927968666667,
          0.030797119413333334,
          0.06810985812933334,
          0.04931877416866667,
          0.03133741890866667,
          0.028421245919,
          0.030339355395666668,
          0.029276810543000003,
          0.028495647761333332,
          0.029260978893,
          0.030773119541666668,
          0.029910837464666665,
          0.030781740883333335,
          0.055713098545,
          0.15070265615333334,
          0.03162384298266667,
          0.028693778050666665,
          0.02602774300433333,
          0.030773182940666666,
          0.030958561880000002,
          0.03269657587066666,
          0.029413997826333332,
          0.04264613304833333,
          0.09212442251133333,
          0.38558024616666664,
          0.4738691071699999,
          0.24098973589000003,
          0.07531599863166666,
          0.041832125519,
          0.03363071354366667,
          0.033077360162000004,
          0.02609815762266667,
          0.030147660919333335,
          0.03248892524066667,
          0.02970030910233333,
          0.026287529682,
          0.028273782827000004,
          0.033210207683,
          0.027010074687333335,
          0.029711636908666666,
          0.031556208764333335,
          0.02837457168966667,
          0.027695296174666668,
          0.028163016589666672,
          0.028348844065,
          0.028255978903,
          0.029441919974666664,
          0.03774041712,
          0.027702293509,
          0.031686721526,
          0.032078988044,
          0.027345633286666667,
          0.02746315392566667,
          0.028190548660333336,
          0.02668918681766667,
          0.02967387697,
          0.027393094333666667,
          0.028704061136000002,
          0.028422279780666665,
          0.028089039161333332,
          0.028929709454999997,
          0.029233991497,
          0.027669204911,
          0.026220908334333336,
          0.025758046655333332,
          0.029400880093,
          0.028159741904333332,
          0.029184761578,
          0.023275739307,
          0.029847798832666667,
          0.026504392004,
          0.031270653956333334,
          0.026231441796666668,
          0.029026342759666663,
          0.02733609444033333,
          0.02778118194,
          0.024830716710333333,
          0.030780896719999996,
          0.028706718669333334,
          0.025976514039000004
         ]
        }
       ],
       "layout": {
        "shapes": [
         {
          "line": {
           "color": "red",
           "dash": "dash",
           "width": 1
          },
          "opacity": 0.7,
          "type": "line",
          "x0": 0,
          "x1": 1,
          "xref": "x domain",
          "y0": 0.289246556388,
          "y1": 0.289246556388,
          "yref": "y"
         },
         {
          "line": {
           "color": "blue",
           "dash": "dash",
           "width": 1
          },
          "opacity": 0.7,
          "type": "line",
          "x0": 0,
          "x1": 1,
          "xref": "x domain",
          "y0": 0.021587213696,
          "y1": 0.021587213696,
          "yref": "y"
         }
        ],
        "template": {
         "data": {
          "bar": [
           {
            "error_x": {
             "color": "#2a3f5f"
            },
            "error_y": {
             "color": "#2a3f5f"
            },
            "marker": {
             "line": {
              "color": "#E5ECF6",
              "width": 0.5
             },
             "pattern": {
              "fillmode": "overlay",
              "size": 10,
              "solidity": 0.2
             }
            },
            "type": "bar"
           }
          ],
          "barpolar": [
           {
            "marker": {
             "line": {
              "color": "#E5ECF6",
              "width": 0.5
             },
             "pattern": {
              "fillmode": "overlay",
              "size": 10,
              "solidity": 0.2
             }
            },
            "type": "barpolar"
           }
          ],
          "carpet": [
           {
            "aaxis": {
             "endlinecolor": "#2a3f5f",
             "gridcolor": "white",
             "linecolor": "white",
             "minorgridcolor": "white",
             "startlinecolor": "#2a3f5f"
            },
            "baxis": {
             "endlinecolor": "#2a3f5f",
             "gridcolor": "white",
             "linecolor": "white",
             "minorgridcolor": "white",
             "startlinecolor": "#2a3f5f"
            },
            "type": "carpet"
           }
          ],
          "choropleth": [
           {
            "colorbar": {
             "outlinewidth": 0,
             "ticks": ""
            },
            "type": "choropleth"
           }
          ],
          "contour": [
           {
            "colorbar": {
             "outlinewidth": 0,
             "ticks": ""
            },
            "colorscale": [
             [
              0,
              "#0d0887"
             ],
             [
              0.1111111111111111,
              "#46039f"
             ],
             [
              0.2222222222222222,
              "#7201a8"
             ],
             [
              0.3333333333333333,
              "#9c179e"
             ],
             [
              0.4444444444444444,
              "#bd3786"
             ],
             [
              0.5555555555555556,
              "#d8576b"
             ],
             [
              0.6666666666666666,
              "#ed7953"
             ],
             [
              0.7777777777777778,
              "#fb9f3a"
             ],
             [
              0.8888888888888888,
              "#fdca26"
             ],
             [
              1,
              "#f0f921"
             ]
            ],
            "type": "contour"
           }
          ],
          "contourcarpet": [
           {
            "colorbar": {
             "outlinewidth": 0,
             "ticks": ""
            },
            "type": "contourcarpet"
           }
          ],
          "heatmap": [
           {
            "colorbar": {
             "outlinewidth": 0,
             "ticks": ""
            },
            "colorscale": [
             [
              0,
              "#0d0887"
             ],
             [
              0.1111111111111111,
              "#46039f"
             ],
             [
              0.2222222222222222,
              "#7201a8"
             ],
             [
              0.3333333333333333,
              "#9c179e"
             ],
             [
              0.4444444444444444,
              "#bd3786"
             ],
             [
              0.5555555555555556,
              "#d8576b"
             ],
             [
              0.6666666666666666,
              "#ed7953"
             ],
             [
              0.7777777777777778,
              "#fb9f3a"
             ],
             [
              0.8888888888888888,
              "#fdca26"
             ],
             [
              1,
              "#f0f921"
             ]
            ],
            "type": "heatmap"
           }
          ],
          "heatmapgl": [
           {
            "colorbar": {
             "outlinewidth": 0,
             "ticks": ""
            },
            "colorscale": [
             [
              0,
              "#0d0887"
             ],
             [
              0.1111111111111111,
              "#46039f"
             ],
             [
              0.2222222222222222,
              "#7201a8"
             ],
             [
              0.3333333333333333,
              "#9c179e"
             ],
             [
              0.4444444444444444,
              "#bd3786"
             ],
             [
              0.5555555555555556,
              "#d8576b"
             ],
             [
              0.6666666666666666,
              "#ed7953"
             ],
             [
              0.7777777777777778,
              "#fb9f3a"
             ],
             [
              0.8888888888888888,
              "#fdca26"
             ],
             [
              1,
              "#f0f921"
             ]
            ],
            "type": "heatmapgl"
           }
          ],
          "histogram": [
           {
            "marker": {
             "pattern": {
              "fillmode": "overlay",
              "size": 10,
              "solidity": 0.2
             }
            },
            "type": "histogram"
           }
          ],
          "histogram2d": [
           {
            "colorbar": {
             "outlinewidth": 0,
             "ticks": ""
            },
            "colorscale": [
             [
              0,
              "#0d0887"
             ],
             [
              0.1111111111111111,
              "#46039f"
             ],
             [
              0.2222222222222222,
              "#7201a8"
             ],
             [
              0.3333333333333333,
              "#9c179e"
             ],
             [
              0.4444444444444444,
              "#bd3786"
             ],
             [
              0.5555555555555556,
              "#d8576b"
             ],
             [
              0.6666666666666666,
              "#ed7953"
             ],
             [
              0.7777777777777778,
              "#fb9f3a"
             ],
             [
              0.8888888888888888,
              "#fdca26"
             ],
             [
              1,
              "#f0f921"
             ]
            ],
            "type": "histogram2d"
           }
          ],
          "histogram2dcontour": [
           {
            "colorbar": {
             "outlinewidth": 0,
             "ticks": ""
            },
            "colorscale": [
             [
              0,
              "#0d0887"
             ],
             [
              0.1111111111111111,
              "#46039f"
             ],
             [
              0.2222222222222222,
              "#7201a8"
             ],
             [
              0.3333333333333333,
              "#9c179e"
             ],
             [
              0.4444444444444444,
              "#bd3786"
             ],
             [
              0.5555555555555556,
              "#d8576b"
             ],
             [
              0.6666666666666666,
              "#ed7953"
             ],
             [
              0.7777777777777778,
              "#fb9f3a"
             ],
             [
              0.8888888888888888,
              "#fdca26"
             ],
             [
              1,
              "#f0f921"
             ]
            ],
            "type": "histogram2dcontour"
           }
          ],
          "mesh3d": [
           {
            "colorbar": {
             "outlinewidth": 0,
             "ticks": ""
            },
            "type": "mesh3d"
           }
          ],
          "parcoords": [
           {
            "line": {
             "colorbar": {
              "outlinewidth": 0,
              "ticks": ""
             }
            },
            "type": "parcoords"
           }
          ],
          "pie": [
           {
            "automargin": true,
            "type": "pie"
           }
          ],
          "scatter": [
           {
            "fillpattern": {
             "fillmode": "overlay",
             "size": 10,
             "solidity": 0.2
            },
            "type": "scatter"
           }
          ],
          "scatter3d": [
           {
            "line": {
             "colorbar": {
              "outlinewidth": 0,
              "ticks": ""
             }
            },
            "marker": {
             "colorbar": {
              "outlinewidth": 0,
              "ticks": ""
             }
            },
            "type": "scatter3d"
           }
          ],
          "scattercarpet": [
           {
            "marker": {
             "colorbar": {
              "outlinewidth": 0,
              "ticks": ""
             }
            },
            "type": "scattercarpet"
           }
          ],
          "scattergeo": [
           {
            "marker": {
             "colorbar": {
              "outlinewidth": 0,
              "ticks": ""
             }
            },
            "type": "scattergeo"
           }
          ],
          "scattergl": [
           {
            "marker": {
             "colorbar": {
              "outlinewidth": 0,
              "ticks": ""
             }
            },
            "type": "scattergl"
           }
          ],
          "scattermapbox": [
           {
            "marker": {
             "colorbar": {
              "outlinewidth": 0,
              "ticks": ""
             }
            },
            "type": "scattermapbox"
           }
          ],
          "scatterpolar": [
           {
            "marker": {
             "colorbar": {
              "outlinewidth": 0,
              "ticks": ""
             }
            },
            "type": "scatterpolar"
           }
          ],
          "scatterpolargl": [
           {
            "marker": {
             "colorbar": {
              "outlinewidth": 0,
              "ticks": ""
             }
            },
            "type": "scatterpolargl"
           }
          ],
          "scatterternary": [
           {
            "marker": {
             "colorbar": {
              "outlinewidth": 0,
              "ticks": ""
             }
            },
            "type": "scatterternary"
           }
          ],
          "surface": [
           {
            "colorbar": {
             "outlinewidth": 0,
             "ticks": ""
            },
            "colorscale": [
             [
              0,
              "#0d0887"
             ],
             [
              0.1111111111111111,
              "#46039f"
             ],
             [
              0.2222222222222222,
              "#7201a8"
             ],
             [
              0.3333333333333333,
              "#9c179e"
             ],
             [
              0.4444444444444444,
              "#bd3786"
             ],
             [
              0.5555555555555556,
              "#d8576b"
             ],
             [
              0.6666666666666666,
              "#ed7953"
             ],
             [
              0.7777777777777778,
              "#fb9f3a"
             ],
             [
              0.8888888888888888,
              "#fdca26"
             ],
             [
              1,
              "#f0f921"
             ]
            ],
            "type": "surface"
           }
          ],
          "table": [
           {
            "cells": {
             "fill": {
              "color": "#EBF0F8"
             },
             "line": {
              "color": "white"
             }
            },
            "header": {
             "fill": {
              "color": "#C8D4E3"
             },
             "line": {
              "color": "white"
             }
            },
            "type": "table"
           }
          ]
         },
         "layout": {
          "annotationdefaults": {
           "arrowcolor": "#2a3f5f",
           "arrowhead": 0,
           "arrowwidth": 1
          },
          "autotypenumbers": "strict",
          "coloraxis": {
           "colorbar": {
            "outlinewidth": 0,
            "ticks": ""
           }
          },
          "colorscale": {
           "diverging": [
            [
             0,
             "#8e0152"
            ],
            [
             0.1,
             "#c51b7d"
            ],
            [
             0.2,
             "#de77ae"
            ],
            [
             0.3,
             "#f1b6da"
            ],
            [
             0.4,
             "#fde0ef"
            ],
            [
             0.5,
             "#f7f7f7"
            ],
            [
             0.6,
             "#e6f5d0"
            ],
            [
             0.7,
             "#b8e186"
            ],
            [
             0.8,
             "#7fbc41"
            ],
            [
             0.9,
             "#4d9221"
            ],
            [
             1,
             "#276419"
            ]
           ],
           "sequential": [
            [
             0,
             "#0d0887"
            ],
            [
             0.1111111111111111,
             "#46039f"
            ],
            [
             0.2222222222222222,
             "#7201a8"
            ],
            [
             0.3333333333333333,
             "#9c179e"
            ],
            [
             0.4444444444444444,
             "#bd3786"
            ],
            [
             0.5555555555555556,
             "#d8576b"
            ],
            [
             0.6666666666666666,
             "#ed7953"
            ],
            [
             0.7777777777777778,
             "#fb9f3a"
            ],
            [
             0.8888888888888888,
             "#fdca26"
            ],
            [
             1,
             "#f0f921"
            ]
           ],
           "sequentialminus": [
            [
             0,
             "#0d0887"
            ],
            [
             0.1111111111111111,
             "#46039f"
            ],
            [
             0.2222222222222222,
             "#7201a8"
            ],
            [
             0.3333333333333333,
             "#9c179e"
            ],
            [
             0.4444444444444444,
             "#bd3786"
            ],
            [
             0.5555555555555556,
             "#d8576b"
            ],
            [
             0.6666666666666666,
             "#ed7953"
            ],
            [
             0.7777777777777778,
             "#fb9f3a"
            ],
            [
             0.8888888888888888,
             "#fdca26"
            ],
            [
             1,
             "#f0f921"
            ]
           ]
          },
          "colorway": [
           "#636efa",
           "#EF553B",
           "#00cc96",
           "#ab63fa",
           "#FFA15A",
           "#19d3f3",
           "#FF6692",
           "#B6E880",
           "#FF97FF",
           "#FECB52"
          ],
          "font": {
           "color": "#2a3f5f"
          },
          "geo": {
           "bgcolor": "white",
           "lakecolor": "white",
           "landcolor": "#E5ECF6",
           "showlakes": true,
           "showland": true,
           "subunitcolor": "white"
          },
          "hoverlabel": {
           "align": "left"
          },
          "hovermode": "closest",
          "mapbox": {
           "style": "light"
          },
          "paper_bgcolor": "white",
          "plot_bgcolor": "#E5ECF6",
          "polar": {
           "angularaxis": {
            "gridcolor": "white",
            "linecolor": "white",
            "ticks": ""
           },
           "bgcolor": "#E5ECF6",
           "radialaxis": {
            "gridcolor": "white",
            "linecolor": "white",
            "ticks": ""
           }
          },
          "scene": {
           "xaxis": {
            "backgroundcolor": "#E5ECF6",
            "gridcolor": "white",
            "gridwidth": 2,
            "linecolor": "white",
            "showbackground": true,
            "ticks": "",
            "zerolinecolor": "white"
           },
           "yaxis": {
            "backgroundcolor": "#E5ECF6",
            "gridcolor": "white",
            "gridwidth": 2,
            "linecolor": "white",
            "showbackground": true,
            "ticks": "",
            "zerolinecolor": "white"
           },
           "zaxis": {
            "backgroundcolor": "#E5ECF6",
            "gridcolor": "white",
            "gridwidth": 2,
            "linecolor": "white",
            "showbackground": true,
            "ticks": "",
            "zerolinecolor": "white"
           }
          },
          "shapedefaults": {
           "line": {
            "color": "#2a3f5f"
           }
          },
          "ternary": {
           "aaxis": {
            "gridcolor": "white",
            "linecolor": "white",
            "ticks": ""
           },
           "baxis": {
            "gridcolor": "white",
            "linecolor": "white",
            "ticks": ""
           },
           "bgcolor": "#E5ECF6",
           "caxis": {
            "gridcolor": "white",
            "linecolor": "white",
            "ticks": ""
           }
          },
          "title": {
           "x": 0.05
          },
          "xaxis": {
           "automargin": true,
           "gridcolor": "white",
           "linecolor": "white",
           "ticks": "",
           "title": {
            "standoff": 15
           },
           "zerolinecolor": "white",
           "zerolinewidth": 2
          },
          "yaxis": {
           "automargin": true,
           "gridcolor": "white",
           "linecolor": "white",
           "ticks": "",
           "title": {
            "standoff": 15
           },
           "zerolinecolor": "white",
           "zerolinewidth": 2
          }
         }
        },
        "xaxis": {
         "exponentformat": "power"
        }
       }
      }
     },
     "metadata": {},
     "output_type": "display_data"
    },
    {
     "name": "stdout",
     "output_type": "stream",
     "text": [
      "file saved as twotone_fpsweep_QPU-09_NbTi_2q-single-drive_Q1_20241016_1306\n",
      "Qubit frequency: 3450.00 MHz, Q: 0.00\n"
     ]
    },
    {
     "name": "stderr",
     "output_type": "stream",
     "text": [
      "/home/user/Documents/_Py_Projects/QChrct_Extra/QCharacterization/HelpModule.py:135: RuntimeWarning:\n",
      "\n",
      "divide by zero encountered in log10\n",
      "\n"
     ]
    }
   ],
   "source": [
    "import plotly.graph_objects  as go \n",
    "\n",
    "#mags[:] = 0\n",
    "#mags_TT_f_sweep[:]=0\n",
    "#phases[:] = 0\n",
    "fig_TT_f_sweep=go.Figure(data=go.Scatter(mode='lines+markers', line=dict(color='Red', width=0.5), x=qubitFreq_array, y=mags)) #zmax=25,  zmin=0, colorscale='Viridis', zsmooth='best', z=mags.T,\n",
    "fig_TT_f_sweep.update_xaxes(exponentformat = 'power')\n",
    "fig_TT_f_sweep.add_hline(y=(mag_lp.max()+mag_lp.min())/2, line_width=1, line_dash=\"dash\", line_color='red', opacity=0.7)\n",
    "fig_TT_f_sweep.add_hline(y=mag_lp.min(), line_width=1, line_dash=\"dash\", line_color='blue', opacity=0.7)\n",
    "                                               \n",
    "try:\n",
    "    for idx,qfreq in enumerate(qubitFreq_array):\n",
    "        clear_output(wait=True)\n",
    "        #with lo: #Removed                              for ERASynh\n",
    "        lo.set_RF(qfreq*1e6) #*1e6\n",
    "        lo.on() #                                       for ERASynh\n",
    "        with twpa:\n",
    "            sleep(0.2)\n",
    "            vna.reset_average()\n",
    "            sleep(delay) # VNA Readout integration time\n",
    "            mag, phase =  vna.get_data( meas = meas_)\n",
    "        lo.off() #                                      for ERASynh\n",
    "        a = np.mean(mag) #mag[1]\n",
    "        if a < 1:\n",
    "            mags[idx] = a\n",
    "        else:\n",
    "            mags[idx] = maxv\n",
    "\n",
    "        phases[idx] = np.mean(phase) #phase[1]\n",
    "        fig_TT_f_sweep.data[0].y=mags\n",
    "        fig_TT_f_sweep.data[0].marker=dict(color=mags, colorscale='bluered', size=5)\n",
    "        fig_TT_f_sweep.show()\n",
    "        \n",
    "        #fig = px.scatter(x=qubitFreq_array, y=mags)\n",
    "        #fig.show\n",
    "        #plt.plot(qubitFreq_array,20*np.log10(mags),'x')\n",
    "        #plt.show()\n",
    "except KeyboardInterrupt:\n",
    "    print(\"Stopped\")\n",
    "    fig_TT_f_sweep.show()\n",
    "\n",
    "finally:\n",
    "    results = {}\n",
    "    results['mags']= mags   \n",
    "    results['phases']= phases \n",
    "\n",
    "    header_str = get_plot_str(params)\n",
    "    filename = params['test_type'] +\"_\"+params['qubit_name'] + \"_\" +params['test_date']\n",
    "    np.savez(\"./data/\"+filename,\n",
    "            header = header_str,\n",
    "            freqs=qubitFreq_array,\n",
    "            mags=mags,\n",
    "            phases=phases)\n",
    "    print('file saved as %s'%filename)\n",
    "\n",
    "# Extract the qubit frequency\n",
    "try:\n",
    "    qubit_f, Qf,_ = Q(qubitFreq_array, mags.max()-mags, True)\n",
    "except:\n",
    "    qubit_f = qubitFreq_array[mags.argmax()]\n",
    "    Qf = 0\n",
    "\n",
    "print('Qubit frequency: %2.2f MHz, Q: %2.2f'%(qubit_f, Qf))"
   ]
  },
  {
   "cell_type": "code",
   "execution_count": 6,
   "id": "b353227a",
   "metadata": {},
   "outputs": [
    {
     "data": {
      "application/vnd.plotly.v1+json": {
       "config": {
        "plotlyServerURL": "https://plot.ly"
       },
       "data": [
        {
         "line": {
          "color": "Red",
          "width": 0.5
         },
         "marker": {
          "color": [
           0.02849307714133333,
           0.028587527212,
           0.027448121434666666,
           0.029044978098,
           0.028252589788666665,
           0.028831829007,
           0.028484148578,
           0.026297009199333334,
           0.025124994085333335,
           0.029676342645000003,
           0.030716264617333334,
           0.02850992141733334,
           0.027417813136000002,
           0.027956507539666664,
           0.02831527391366666,
           0.032081106469000004,
           0.026121225727333334,
           0.030132782799000002,
           0.02992738074433333,
           0.031109511803666667,
           0.028445927968666667,
           0.030797119413333334,
           0.06810985812933334,
           0.04931877416866667,
           0.03133741890866667,
           0.028421245919,
           0.030339355395666668,
           0.029276810543000003,
           0.028495647761333332,
           0.029260978893,
           0.030773119541666668,
           0.029910837464666665,
           0.030781740883333335,
           0.055713098545,
           0.15070265615333334,
           0.03162384298266667,
           0.028693778050666665,
           0.02602774300433333,
           0.030773182940666666,
           0.030958561880000002,
           0.03269657587066666,
           0.029413997826333332,
           0.04264613304833333,
           0.09212442251133333,
           0.38558024616666664,
           0.4738691071699999,
           0.24098973589000003,
           0.07531599863166666,
           0.041832125519,
           0.03363071354366667,
           0.033077360162000004,
           0.02609815762266667,
           0.030147660919333335,
           0.03248892524066667,
           0.02970030910233333,
           0.026287529682,
           0.028273782827000004,
           0.033210207683,
           0.027010074687333335,
           0.029711636908666666,
           0.031556208764333335,
           0.02837457168966667,
           0.027695296174666668,
           0.028163016589666672,
           0.028348844065,
           0.028255978903,
           0.029441919974666664,
           0.03774041712,
           0.027702293509,
           0.031686721526,
           0.032078988044,
           0.027345633286666667,
           0.02746315392566667,
           0.028190548660333336,
           0.02668918681766667,
           0.02967387697,
           0.027393094333666667,
           0.028704061136000002,
           0.028422279780666665,
           0.028089039161333332,
           0.028929709454999997,
           0.029233991497,
           0.027669204911,
           0.026220908334333336,
           0.025758046655333332,
           0.029400880093,
           0.028159741904333332,
           0.029184761578,
           0.023275739307,
           0.029847798832666667,
           0.026504392004,
           0.031270653956333334,
           0.026231441796666668,
           0.029026342759666663,
           0.02733609444033333,
           0.02778118194,
           0.024830716710333333,
           0.030780896719999996,
           0.028706718669333334,
           0.025976514039000004
          ],
          "colorscale": [
           [
            0,
            "rgb(0,0,255)"
           ],
           [
            1,
            "rgb(255,0,0)"
           ]
          ],
          "size": 5
         },
         "mode": "lines+markers",
         "type": "scatter",
         "x": [
          3000,
          3010,
          3020,
          3030,
          3040,
          3050,
          3060,
          3070,
          3080,
          3090,
          3100,
          3110,
          3120,
          3130,
          3140,
          3150,
          3160,
          3170,
          3180,
          3190,
          3200,
          3210,
          3220,
          3230,
          3240,
          3250,
          3260,
          3270,
          3280,
          3290,
          3300,
          3310,
          3320,
          3330,
          3340,
          3350,
          3360,
          3370,
          3380,
          3390,
          3400,
          3410,
          3420,
          3430,
          3440,
          3450,
          3460,
          3470,
          3480,
          3490,
          3500,
          3510,
          3520,
          3530,
          3540,
          3550,
          3560,
          3570,
          3580,
          3590,
          3600,
          3610,
          3620,
          3630,
          3640,
          3650,
          3660,
          3670,
          3680,
          3690,
          3700,
          3710,
          3720,
          3730,
          3740,
          3750,
          3760,
          3770,
          3780,
          3790,
          3800,
          3810,
          3820,
          3830,
          3840,
          3850,
          3860,
          3870,
          3880,
          3890,
          3900,
          3910,
          3920,
          3930,
          3940,
          3950,
          3960,
          3970,
          3980,
          3990
         ],
         "y": [
          0.02849307714133333,
          0.028587527212,
          0.027448121434666666,
          0.029044978098,
          0.028252589788666665,
          0.028831829007,
          0.028484148578,
          0.026297009199333334,
          0.025124994085333335,
          0.029676342645000003,
          0.030716264617333334,
          0.02850992141733334,
          0.027417813136000002,
          0.027956507539666664,
          0.02831527391366666,
          0.032081106469000004,
          0.026121225727333334,
          0.030132782799000002,
          0.02992738074433333,
          0.031109511803666667,
          0.028445927968666667,
          0.030797119413333334,
          0.06810985812933334,
          0.04931877416866667,
          0.03133741890866667,
          0.028421245919,
          0.030339355395666668,
          0.029276810543000003,
          0.028495647761333332,
          0.029260978893,
          0.030773119541666668,
          0.029910837464666665,
          0.030781740883333335,
          0.055713098545,
          0.15070265615333334,
          0.03162384298266667,
          0.028693778050666665,
          0.02602774300433333,
          0.030773182940666666,
          0.030958561880000002,
          0.03269657587066666,
          0.029413997826333332,
          0.04264613304833333,
          0.09212442251133333,
          0.38558024616666664,
          0.4738691071699999,
          0.24098973589000003,
          0.07531599863166666,
          0.041832125519,
          0.03363071354366667,
          0.033077360162000004,
          0.02609815762266667,
          0.030147660919333335,
          0.03248892524066667,
          0.02970030910233333,
          0.026287529682,
          0.028273782827000004,
          0.033210207683,
          0.027010074687333335,
          0.029711636908666666,
          0.031556208764333335,
          0.02837457168966667,
          0.027695296174666668,
          0.028163016589666672,
          0.028348844065,
          0.028255978903,
          0.029441919974666664,
          0.03774041712,
          0.027702293509,
          0.031686721526,
          0.032078988044,
          0.027345633286666667,
          0.02746315392566667,
          0.028190548660333336,
          0.02668918681766667,
          0.02967387697,
          0.027393094333666667,
          0.028704061136000002,
          0.028422279780666665,
          0.028089039161333332,
          0.028929709454999997,
          0.029233991497,
          0.027669204911,
          0.026220908334333336,
          0.025758046655333332,
          0.029400880093,
          0.028159741904333332,
          0.029184761578,
          0.023275739307,
          0.029847798832666667,
          0.026504392004,
          0.031270653956333334,
          0.026231441796666668,
          0.029026342759666663,
          0.02733609444033333,
          0.02778118194,
          0.024830716710333333,
          0.030780896719999996,
          0.028706718669333334,
          0.025976514039000004
         ]
        }
       ],
       "layout": {
        "shapes": [
         {
          "line": {
           "color": "red",
           "dash": "dash",
           "width": 1
          },
          "opacity": 0.7,
          "type": "line",
          "x0": 0,
          "x1": 1,
          "xref": "x domain",
          "y0": 0.289246556388,
          "y1": 0.289246556388,
          "yref": "y"
         },
         {
          "line": {
           "color": "blue",
           "dash": "dash",
           "width": 1
          },
          "opacity": 0.7,
          "type": "line",
          "x0": 0,
          "x1": 1,
          "xref": "x domain",
          "y0": 0.021587213696,
          "y1": 0.021587213696,
          "yref": "y"
         }
        ],
        "template": {
         "data": {
          "bar": [
           {
            "error_x": {
             "color": "#2a3f5f"
            },
            "error_y": {
             "color": "#2a3f5f"
            },
            "marker": {
             "line": {
              "color": "#E5ECF6",
              "width": 0.5
             },
             "pattern": {
              "fillmode": "overlay",
              "size": 10,
              "solidity": 0.2
             }
            },
            "type": "bar"
           }
          ],
          "barpolar": [
           {
            "marker": {
             "line": {
              "color": "#E5ECF6",
              "width": 0.5
             },
             "pattern": {
              "fillmode": "overlay",
              "size": 10,
              "solidity": 0.2
             }
            },
            "type": "barpolar"
           }
          ],
          "carpet": [
           {
            "aaxis": {
             "endlinecolor": "#2a3f5f",
             "gridcolor": "white",
             "linecolor": "white",
             "minorgridcolor": "white",
             "startlinecolor": "#2a3f5f"
            },
            "baxis": {
             "endlinecolor": "#2a3f5f",
             "gridcolor": "white",
             "linecolor": "white",
             "minorgridcolor": "white",
             "startlinecolor": "#2a3f5f"
            },
            "type": "carpet"
           }
          ],
          "choropleth": [
           {
            "colorbar": {
             "outlinewidth": 0,
             "ticks": ""
            },
            "type": "choropleth"
           }
          ],
          "contour": [
           {
            "colorbar": {
             "outlinewidth": 0,
             "ticks": ""
            },
            "colorscale": [
             [
              0,
              "#0d0887"
             ],
             [
              0.1111111111111111,
              "#46039f"
             ],
             [
              0.2222222222222222,
              "#7201a8"
             ],
             [
              0.3333333333333333,
              "#9c179e"
             ],
             [
              0.4444444444444444,
              "#bd3786"
             ],
             [
              0.5555555555555556,
              "#d8576b"
             ],
             [
              0.6666666666666666,
              "#ed7953"
             ],
             [
              0.7777777777777778,
              "#fb9f3a"
             ],
             [
              0.8888888888888888,
              "#fdca26"
             ],
             [
              1,
              "#f0f921"
             ]
            ],
            "type": "contour"
           }
          ],
          "contourcarpet": [
           {
            "colorbar": {
             "outlinewidth": 0,
             "ticks": ""
            },
            "type": "contourcarpet"
           }
          ],
          "heatmap": [
           {
            "colorbar": {
             "outlinewidth": 0,
             "ticks": ""
            },
            "colorscale": [
             [
              0,
              "#0d0887"
             ],
             [
              0.1111111111111111,
              "#46039f"
             ],
             [
              0.2222222222222222,
              "#7201a8"
             ],
             [
              0.3333333333333333,
              "#9c179e"
             ],
             [
              0.4444444444444444,
              "#bd3786"
             ],
             [
              0.5555555555555556,
              "#d8576b"
             ],
             [
              0.6666666666666666,
              "#ed7953"
             ],
             [
              0.7777777777777778,
              "#fb9f3a"
             ],
             [
              0.8888888888888888,
              "#fdca26"
             ],
             [
              1,
              "#f0f921"
             ]
            ],
            "type": "heatmap"
           }
          ],
          "heatmapgl": [
           {
            "colorbar": {
             "outlinewidth": 0,
             "ticks": ""
            },
            "colorscale": [
             [
              0,
              "#0d0887"
             ],
             [
              0.1111111111111111,
              "#46039f"
             ],
             [
              0.2222222222222222,
              "#7201a8"
             ],
             [
              0.3333333333333333,
              "#9c179e"
             ],
             [
              0.4444444444444444,
              "#bd3786"
             ],
             [
              0.5555555555555556,
              "#d8576b"
             ],
             [
              0.6666666666666666,
              "#ed7953"
             ],
             [
              0.7777777777777778,
              "#fb9f3a"
             ],
             [
              0.8888888888888888,
              "#fdca26"
             ],
             [
              1,
              "#f0f921"
             ]
            ],
            "type": "heatmapgl"
           }
          ],
          "histogram": [
           {
            "marker": {
             "pattern": {
              "fillmode": "overlay",
              "size": 10,
              "solidity": 0.2
             }
            },
            "type": "histogram"
           }
          ],
          "histogram2d": [
           {
            "colorbar": {
             "outlinewidth": 0,
             "ticks": ""
            },
            "colorscale": [
             [
              0,
              "#0d0887"
             ],
             [
              0.1111111111111111,
              "#46039f"
             ],
             [
              0.2222222222222222,
              "#7201a8"
             ],
             [
              0.3333333333333333,
              "#9c179e"
             ],
             [
              0.4444444444444444,
              "#bd3786"
             ],
             [
              0.5555555555555556,
              "#d8576b"
             ],
             [
              0.6666666666666666,
              "#ed7953"
             ],
             [
              0.7777777777777778,
              "#fb9f3a"
             ],
             [
              0.8888888888888888,
              "#fdca26"
             ],
             [
              1,
              "#f0f921"
             ]
            ],
            "type": "histogram2d"
           }
          ],
          "histogram2dcontour": [
           {
            "colorbar": {
             "outlinewidth": 0,
             "ticks": ""
            },
            "colorscale": [
             [
              0,
              "#0d0887"
             ],
             [
              0.1111111111111111,
              "#46039f"
             ],
             [
              0.2222222222222222,
              "#7201a8"
             ],
             [
              0.3333333333333333,
              "#9c179e"
             ],
             [
              0.4444444444444444,
              "#bd3786"
             ],
             [
              0.5555555555555556,
              "#d8576b"
             ],
             [
              0.6666666666666666,
              "#ed7953"
             ],
             [
              0.7777777777777778,
              "#fb9f3a"
             ],
             [
              0.8888888888888888,
              "#fdca26"
             ],
             [
              1,
              "#f0f921"
             ]
            ],
            "type": "histogram2dcontour"
           }
          ],
          "mesh3d": [
           {
            "colorbar": {
             "outlinewidth": 0,
             "ticks": ""
            },
            "type": "mesh3d"
           }
          ],
          "parcoords": [
           {
            "line": {
             "colorbar": {
              "outlinewidth": 0,
              "ticks": ""
             }
            },
            "type": "parcoords"
           }
          ],
          "pie": [
           {
            "automargin": true,
            "type": "pie"
           }
          ],
          "scatter": [
           {
            "fillpattern": {
             "fillmode": "overlay",
             "size": 10,
             "solidity": 0.2
            },
            "type": "scatter"
           }
          ],
          "scatter3d": [
           {
            "line": {
             "colorbar": {
              "outlinewidth": 0,
              "ticks": ""
             }
            },
            "marker": {
             "colorbar": {
              "outlinewidth": 0,
              "ticks": ""
             }
            },
            "type": "scatter3d"
           }
          ],
          "scattercarpet": [
           {
            "marker": {
             "colorbar": {
              "outlinewidth": 0,
              "ticks": ""
             }
            },
            "type": "scattercarpet"
           }
          ],
          "scattergeo": [
           {
            "marker": {
             "colorbar": {
              "outlinewidth": 0,
              "ticks": ""
             }
            },
            "type": "scattergeo"
           }
          ],
          "scattergl": [
           {
            "marker": {
             "colorbar": {
              "outlinewidth": 0,
              "ticks": ""
             }
            },
            "type": "scattergl"
           }
          ],
          "scattermapbox": [
           {
            "marker": {
             "colorbar": {
              "outlinewidth": 0,
              "ticks": ""
             }
            },
            "type": "scattermapbox"
           }
          ],
          "scatterpolar": [
           {
            "marker": {
             "colorbar": {
              "outlinewidth": 0,
              "ticks": ""
             }
            },
            "type": "scatterpolar"
           }
          ],
          "scatterpolargl": [
           {
            "marker": {
             "colorbar": {
              "outlinewidth": 0,
              "ticks": ""
             }
            },
            "type": "scatterpolargl"
           }
          ],
          "scatterternary": [
           {
            "marker": {
             "colorbar": {
              "outlinewidth": 0,
              "ticks": ""
             }
            },
            "type": "scatterternary"
           }
          ],
          "surface": [
           {
            "colorbar": {
             "outlinewidth": 0,
             "ticks": ""
            },
            "colorscale": [
             [
              0,
              "#0d0887"
             ],
             [
              0.1111111111111111,
              "#46039f"
             ],
             [
              0.2222222222222222,
              "#7201a8"
             ],
             [
              0.3333333333333333,
              "#9c179e"
             ],
             [
              0.4444444444444444,
              "#bd3786"
             ],
             [
              0.5555555555555556,
              "#d8576b"
             ],
             [
              0.6666666666666666,
              "#ed7953"
             ],
             [
              0.7777777777777778,
              "#fb9f3a"
             ],
             [
              0.8888888888888888,
              "#fdca26"
             ],
             [
              1,
              "#f0f921"
             ]
            ],
            "type": "surface"
           }
          ],
          "table": [
           {
            "cells": {
             "fill": {
              "color": "#EBF0F8"
             },
             "line": {
              "color": "white"
             }
            },
            "header": {
             "fill": {
              "color": "#C8D4E3"
             },
             "line": {
              "color": "white"
             }
            },
            "type": "table"
           }
          ]
         },
         "layout": {
          "annotationdefaults": {
           "arrowcolor": "#2a3f5f",
           "arrowhead": 0,
           "arrowwidth": 1
          },
          "autotypenumbers": "strict",
          "coloraxis": {
           "colorbar": {
            "outlinewidth": 0,
            "ticks": ""
           }
          },
          "colorscale": {
           "diverging": [
            [
             0,
             "#8e0152"
            ],
            [
             0.1,
             "#c51b7d"
            ],
            [
             0.2,
             "#de77ae"
            ],
            [
             0.3,
             "#f1b6da"
            ],
            [
             0.4,
             "#fde0ef"
            ],
            [
             0.5,
             "#f7f7f7"
            ],
            [
             0.6,
             "#e6f5d0"
            ],
            [
             0.7,
             "#b8e186"
            ],
            [
             0.8,
             "#7fbc41"
            ],
            [
             0.9,
             "#4d9221"
            ],
            [
             1,
             "#276419"
            ]
           ],
           "sequential": [
            [
             0,
             "#0d0887"
            ],
            [
             0.1111111111111111,
             "#46039f"
            ],
            [
             0.2222222222222222,
             "#7201a8"
            ],
            [
             0.3333333333333333,
             "#9c179e"
            ],
            [
             0.4444444444444444,
             "#bd3786"
            ],
            [
             0.5555555555555556,
             "#d8576b"
            ],
            [
             0.6666666666666666,
             "#ed7953"
            ],
            [
             0.7777777777777778,
             "#fb9f3a"
            ],
            [
             0.8888888888888888,
             "#fdca26"
            ],
            [
             1,
             "#f0f921"
            ]
           ],
           "sequentialminus": [
            [
             0,
             "#0d0887"
            ],
            [
             0.1111111111111111,
             "#46039f"
            ],
            [
             0.2222222222222222,
             "#7201a8"
            ],
            [
             0.3333333333333333,
             "#9c179e"
            ],
            [
             0.4444444444444444,
             "#bd3786"
            ],
            [
             0.5555555555555556,
             "#d8576b"
            ],
            [
             0.6666666666666666,
             "#ed7953"
            ],
            [
             0.7777777777777778,
             "#fb9f3a"
            ],
            [
             0.8888888888888888,
             "#fdca26"
            ],
            [
             1,
             "#f0f921"
            ]
           ]
          },
          "colorway": [
           "#636efa",
           "#EF553B",
           "#00cc96",
           "#ab63fa",
           "#FFA15A",
           "#19d3f3",
           "#FF6692",
           "#B6E880",
           "#FF97FF",
           "#FECB52"
          ],
          "font": {
           "color": "#2a3f5f"
          },
          "geo": {
           "bgcolor": "white",
           "lakecolor": "white",
           "landcolor": "#E5ECF6",
           "showlakes": true,
           "showland": true,
           "subunitcolor": "white"
          },
          "hoverlabel": {
           "align": "left"
          },
          "hovermode": "closest",
          "mapbox": {
           "style": "light"
          },
          "paper_bgcolor": "white",
          "plot_bgcolor": "#E5ECF6",
          "polar": {
           "angularaxis": {
            "gridcolor": "white",
            "linecolor": "white",
            "ticks": ""
           },
           "bgcolor": "#E5ECF6",
           "radialaxis": {
            "gridcolor": "white",
            "linecolor": "white",
            "ticks": ""
           }
          },
          "scene": {
           "xaxis": {
            "backgroundcolor": "#E5ECF6",
            "gridcolor": "white",
            "gridwidth": 2,
            "linecolor": "white",
            "showbackground": true,
            "ticks": "",
            "zerolinecolor": "white"
           },
           "yaxis": {
            "backgroundcolor": "#E5ECF6",
            "gridcolor": "white",
            "gridwidth": 2,
            "linecolor": "white",
            "showbackground": true,
            "ticks": "",
            "zerolinecolor": "white"
           },
           "zaxis": {
            "backgroundcolor": "#E5ECF6",
            "gridcolor": "white",
            "gridwidth": 2,
            "linecolor": "white",
            "showbackground": true,
            "ticks": "",
            "zerolinecolor": "white"
           }
          },
          "shapedefaults": {
           "line": {
            "color": "#2a3f5f"
           }
          },
          "ternary": {
           "aaxis": {
            "gridcolor": "white",
            "linecolor": "white",
            "ticks": ""
           },
           "baxis": {
            "gridcolor": "white",
            "linecolor": "white",
            "ticks": ""
           },
           "bgcolor": "#E5ECF6",
           "caxis": {
            "gridcolor": "white",
            "linecolor": "white",
            "ticks": ""
           }
          },
          "title": {
           "x": 0.05
          },
          "xaxis": {
           "automargin": true,
           "gridcolor": "white",
           "linecolor": "white",
           "ticks": "",
           "title": {
            "standoff": 15
           },
           "zerolinecolor": "white",
           "zerolinewidth": 2
          },
          "yaxis": {
           "automargin": true,
           "gridcolor": "white",
           "linecolor": "white",
           "ticks": "",
           "title": {
            "standoff": 15
           },
           "zerolinecolor": "white",
           "zerolinewidth": 2
          }
         }
        },
        "xaxis": {
         "exponentformat": "power"
        }
       }
      }
     },
     "metadata": {},
     "output_type": "display_data"
    }
   ],
   "source": [
    "fig_TT_f_sweep.show()"
   ]
  },
  {
   "cell_type": "code",
   "execution_count": 7,
   "id": "c7d729cc",
   "metadata": {},
   "outputs": [
    {
     "name": "stdout",
     "output_type": "stream",
     "text": [
      "ERASynthPlusPlus:\n",
      "\tparameter                 value\n",
      "--------------------------------------------------------------------------------\n",
      "IDN                        :\t{'vendor': 'ERA Instruments', 'model': 'ERASynth...\n",
      "current                    :\t0.23 (V)\n",
      "debug_messages_en          :\tFalse \n",
      "embedded_version           :\tv1.0.18 \n",
      "frequency                  :\t3990000000 (Hz)\n",
      "modulation_am_depth        :\t20 (%)\n",
      "modulation_en              :\tFalse \n",
      "modulation_fm_deviation    :\t5000 (Hz)\n",
      "modulation_freq            :\t1000 (Hz)\n",
      "modulation_pulse_period    :\t0.002 (s)\n",
      "modulation_pulse_width     :\t0.001 (s)\n",
      "modulation_signal_waveform :\tsine \n",
      "modulation_source          :\tinternal \n",
      "modulation_type            :\tnarrowband_fm \n",
      "pll_lmx1_status            :\tunlocked \n",
      "pll_lmx2_status            :\tunlocked \n",
      "pll_xtal_status            :\tlocked \n",
      "power                      :\t-40 (dBm)\n",
      "ref_osc_source             :\tint \n",
      "reference_tcxo_ocxo        :\ttcxo \n",
      "status                     :\tFalse \n",
      "sweep_dwell                :\t1 (s)\n",
      "sweep_en                   :\tFalse \n",
      "sweep_start_frequency      :\t1000000000 (Hz)\n",
      "sweep_step_frequency       :\t1000000000 (Hz)\n",
      "sweep_stop_frequency       :\t6000000000 (Hz)\n",
      "sweep_trigger              :\tfreerun \n",
      "synthesizer_mode           :\tlow_spurious \n",
      "temperature                :\t31.7 (°C)\n",
      "timeout                    :\t10 (s)\n",
      "voltage                    :\t5.25 (V)\n",
      "wifi_gateway_address       :\t222.222.222.222 \n",
      "wifi_hotspot_password      :\t \n",
      "wifi_hotspot_ssid          :\t \n",
      "wifi_ip_address            :\t222.222.222.222 \n",
      "wifi_mode                  :\t \n",
      "wifi_rssi                  :\t \n",
      "wifi_station_password      :\t \n",
      "wifi_station_ssid          :\t \n",
      "wifi_subnet_address        :\t222.222.222.222 \n"
     ]
    }
   ],
   "source": [
    "lo.print_readable_snapshot(update=True)"
   ]
  },
  {
   "cell_type": "code",
   "execution_count": 8,
   "id": "897a71c9",
   "metadata": {},
   "outputs": [
    {
     "ename": "RuntimeError",
     "evalue": "Optimal parameters not found: Number of calls to function has reached maxfev = 1200.",
     "output_type": "error",
     "traceback": [
      "\u001b[1;31m---------------------------------------------------------------------------\u001b[0m",
      "\u001b[1;31mRuntimeError\u001b[0m                              Traceback (most recent call last)",
      "Cell \u001b[1;32mIn[8], line 1\u001b[0m\n\u001b[1;32m----> 1\u001b[0m qubit_f, Qf,_ \u001b[38;5;241m=\u001b[39m \u001b[43mQ\u001b[49m\u001b[43m(\u001b[49m\u001b[43mqubitFreq_array\u001b[49m\u001b[43m,\u001b[49m\u001b[43m \u001b[49m\u001b[38;5;241;43m0.006\u001b[39;49m\u001b[38;5;241;43m-\u001b[39;49m\u001b[43mmags\u001b[49m\u001b[43m \u001b[49m\u001b[43m,\u001b[49m\u001b[43m \u001b[49m\u001b[38;5;28;43;01mTrue\u001b[39;49;00m\u001b[43m)\u001b[49m\n\u001b[0;32m      2\u001b[0m \u001b[38;5;28mprint\u001b[39m(\u001b[38;5;124m'\u001b[39m\u001b[38;5;124mQubit frequency: \u001b[39m\u001b[38;5;132;01m%2.2f\u001b[39;00m\u001b[38;5;124m MHz, Q: \u001b[39m\u001b[38;5;132;01m%2.2f\u001b[39;00m\u001b[38;5;124m'\u001b[39m\u001b[38;5;241m%\u001b[39m(qubit_f, Qf))\n",
      "File \u001b[1;32mc:\\_Py_Projects\\Nanycam_VNA_Continious\\Rohde-Schwarz_VNA-ZNB26\\QChrct_extra\\QCharacterization\\HelpModule.py:118\u001b[0m, in \u001b[0;36mQ\u001b[1;34m(f, mag, plot_f, format)\u001b[0m\n\u001b[0;32m    115\u001b[0m yData \u001b[38;5;241m=\u001b[39m mag_lin \u001b[38;5;241m/\u001b[39m max_v \u001b[38;5;66;03m#Normalize\u001b[39;00m\n\u001b[0;32m    116\u001b[0m xData \u001b[38;5;241m=\u001b[39m np\u001b[38;5;241m.\u001b[39mlinspace(\u001b[38;5;241m-\u001b[39m\u001b[38;5;28mlen\u001b[39m(f)\u001b[38;5;241m/\u001b[39m\u001b[38;5;241m2\u001b[39m,\u001b[38;5;28mlen\u001b[39m(f)\u001b[38;5;241m/\u001b[39m\u001b[38;5;241m2\u001b[39m,\u001b[38;5;28mlen\u001b[39m(f))\n\u001b[1;32m--> 118\u001b[0m param, _ \u001b[38;5;241m=\u001b[39m \u001b[43mcurve_fit\u001b[49m\u001b[43m(\u001b[49m\u001b[43mlorentzian\u001b[49m\u001b[43m,\u001b[49m\u001b[43m \u001b[49m\n\u001b[0;32m    119\u001b[0m \u001b[43m                     \u001b[49m\u001b[43mxData\u001b[49m\u001b[43m,\u001b[49m\u001b[43m \u001b[49m\n\u001b[0;32m    120\u001b[0m \u001b[43m                     \u001b[49m\u001b[43myData\u001b[49m\u001b[43m)\u001b[49m\n\u001b[0;32m    122\u001b[0m mag_fit \u001b[38;5;241m=\u001b[39m [ lorentzian(x, \u001b[38;5;241m*\u001b[39mparam)\u001b[38;5;241m*\u001b[39mmax_v \u001b[38;5;28;01mfor\u001b[39;00m x \u001b[38;5;129;01min\u001b[39;00m xData ]\n\u001b[0;32m    124\u001b[0m \u001b[38;5;28;01mif\u001b[39;00m flip: \n",
      "File \u001b[1;32mc:\\_Py_Projects\\Nanycam_VNA_Continious\\Rohde-Schwarz_VNA-ZNB26\\.venv\\Lib\\site-packages\\scipy\\optimize\\_minpack_py.py:968\u001b[0m, in \u001b[0;36mcurve_fit\u001b[1;34m(f, xdata, ydata, p0, sigma, absolute_sigma, check_finite, bounds, method, jac, full_output, nan_policy, **kwargs)\u001b[0m\n\u001b[0;32m    966\u001b[0m     cost \u001b[38;5;241m=\u001b[39m np\u001b[38;5;241m.\u001b[39msum(infodict[\u001b[38;5;124m'\u001b[39m\u001b[38;5;124mfvec\u001b[39m\u001b[38;5;124m'\u001b[39m] \u001b[38;5;241m*\u001b[39m\u001b[38;5;241m*\u001b[39m \u001b[38;5;241m2\u001b[39m)\n\u001b[0;32m    967\u001b[0m     \u001b[38;5;28;01mif\u001b[39;00m ier \u001b[38;5;129;01mnot\u001b[39;00m \u001b[38;5;129;01min\u001b[39;00m [\u001b[38;5;241m1\u001b[39m, \u001b[38;5;241m2\u001b[39m, \u001b[38;5;241m3\u001b[39m, \u001b[38;5;241m4\u001b[39m]:\n\u001b[1;32m--> 968\u001b[0m         \u001b[38;5;28;01mraise\u001b[39;00m \u001b[38;5;167;01mRuntimeError\u001b[39;00m(\u001b[38;5;124m\"\u001b[39m\u001b[38;5;124mOptimal parameters not found: \u001b[39m\u001b[38;5;124m\"\u001b[39m \u001b[38;5;241m+\u001b[39m errmsg)\n\u001b[0;32m    969\u001b[0m \u001b[38;5;28;01melse\u001b[39;00m:\n\u001b[0;32m    970\u001b[0m     \u001b[38;5;66;03m# Rename maxfev (leastsq) to max_nfev (least_squares), if specified.\u001b[39;00m\n\u001b[0;32m    971\u001b[0m     \u001b[38;5;28;01mif\u001b[39;00m \u001b[38;5;124m'\u001b[39m\u001b[38;5;124mmax_nfev\u001b[39m\u001b[38;5;124m'\u001b[39m \u001b[38;5;129;01mnot\u001b[39;00m \u001b[38;5;129;01min\u001b[39;00m kwargs:\n",
      "\u001b[1;31mRuntimeError\u001b[0m: Optimal parameters not found: Number of calls to function has reached maxfev = 1200."
     ]
    }
   ],
   "source": [
    "qubit_f, Qf,_ = Q(qubitFreq_array, 0.006-mags , True)\n",
    "print('Qubit frequency: %2.2f MHz, Q: %2.2f'%(qubit_f, Qf))"
   ]
  },
  {
   "attachments": {
    "image-2.png": {
     "image/png": "[encoded data removed]"
    },
    "image.png": {
     "image/png": "[encoded data removed]"
    }
   },
   "cell_type": "markdown",
   "id": "6c718bfb",
   "metadata": {},
   "source": [
    "![](attachment:image.png)  ![image-2.png](attachment:image-2.png)"
   ]
  },
  {
   "cell_type": "markdown",
   "id": "17e41381",
   "metadata": {},
   "source": []
  }
 ],
 "metadata": {
  "kernelspec": {
   "display_name": ".venv",
   "language": "python",
   "name": "python3"
  },
  "language_info": {
   "codemirror_mode": {
    "name": "ipython",
    "version": 3
   },
   "file_extension": ".py",
   "mimetype": "text/x-python",
   "name": "python",
   "nbconvert_exporter": "python",
   "pygments_lexer": "ipython3",
   "version": "3.12.3"
  }
 },
 "nbformat": 4,
 "nbformat_minor": 5
}
