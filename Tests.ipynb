{
 "cells": [
  {
   "cell_type": "code",
   "execution_count": null,
   "metadata": {},
   "outputs": [],
   "source": []
  },
  {
   "cell_type": "code",
   "execution_count": 2,
   "metadata": {},
   "outputs": [],
   "source": [
    "import numpy as np\n",
    "import matplotlib.pyplot as plt\n",
    "from HelpModule import *\n",
    "from E5080B_driver import *\n",
    "from ZNB26_driver import *\n",
    "from SGS100A_driver import *\n",
    "from spirack import SPI_rack, S4g_module\n",
    "from IPython.display import clear_output\n",
    "from time import sleep"
   ]
  },
  {
   "cell_type": "code",
   "execution_count": 3,
   "metadata": {},
   "outputs": [],
   "source": [
    "twpa_on = False\n",
    "#vna = E5080B_driver('TCPIP0::192.168.0.235::inst0::INSTR')\n",
    "vna = ZNB26_driver('TCPIP0::192.168.1.221::inst0::INSTR')\n",
    "vna.open()\n"
   ]
  },
  {
   "cell_type": "code",
   "execution_count": 5,
   "metadata": {},
   "outputs": [],
   "source": [
    "from datetime import datetime\n",
    "\n",
    "params={}\n",
    "params['test_date'] = datetime.today().strftime('%Y%m%d_%H%M')\n",
    "params['test_type'] = 'punchout'\n",
    "\n",
    "# Qubit Parameters\n",
    "params['qubit_name'] = 'dummy'\n",
    "params['qubit_power'] = -8\n",
    "params['twpa_power'] = 0.0\n",
    "params['twpa_frequency'] = 0.0\n",
    "params['twpa_on'] = False\n",
    "params['vna_power'] = -30 #Single Photon Regime\n",
    "params['center_freq'] = 9.0e9 \n",
    "params['span_freq'] = 500\n",
    "params['flux_curr'] = 0\n",
    "params['temp'] = 22.2\n",
    "params['comment'] = \"# dummy\\n\" +\\\n",
    "                    \"# none \" +\\\n",
    "                    \"# \" +\\\n",
    "                    \"# \" +\\\n",
    "                    \"# \\n\"\n",
    "\n",
    "params['vna_power_initial'] = -10\n",
    "params['vna_power_final'] = -60\n",
    "params['vna_power_step'] = -1\n",
    "\n",
    "npoints = 1001\n",
    "\n",
    "if params['twpa_on']:\n",
    "    twpa.setup(params['twpa_frequency'], params['twpa_power'])\n",
    "\n",
    "meas = 'S21'"
   ]
  },
  {
   "cell_type": "code",
   "execution_count": 38,
   "metadata": {},
   "outputs": [
    {
     "name": "stdout",
     "output_type": "stream",
     "text": [
      "'C:\\Users\\Public\\Documents\\Rohde-Schwarz\\VNA'\n",
      "\n"
     ]
    }
   ],
   "source": [
    "print(vna._inst.query(\"MMEM:CDIR?\"))\n"
   ]
  },
  {
   "cell_type": "code",
   "execution_count": 11,
   "metadata": {},
   "outputs": [
    {
     "data": {
      "text/plain": [
       "16"
      ]
     },
     "execution_count": 11,
     "metadata": {},
     "output_type": "execute_result"
    }
   ],
   "source": [
    "vna._inst.write(\"OUTPut:STATe 1\")"
   ]
  },
  {
   "cell_type": "code",
   "execution_count": 10,
   "metadata": {},
   "outputs": [
    {
     "data": {
      "text/plain": [
       "16"
      ]
     },
     "execution_count": 10,
     "metadata": {},
     "output_type": "execute_result"
    }
   ],
   "source": [
    "vna._inst.write(\"OUTPut:STATe 0\")"
   ]
  },
  {
   "cell_type": "code",
   "execution_count": 75,
   "metadata": {},
   "outputs": [],
   "source": [
    "data = vna._inst.query(\"CALC:DATA:STIMulus?\")\n",
    "f = np.array(data.split(','),dtype=float)"
   ]
  },
  {
   "cell_type": "code",
   "execution_count": 77,
   "metadata": {},
   "outputs": [
    {
     "name": "stdout",
     "output_type": "stream",
     "text": [
      "'S12,S21'\n",
      "\n"
     ]
    }
   ],
   "source": [
    "print(vna._inst.query(\"CALCulate:DATA:CALL:CATalog?\"))"
   ]
  },
  {
   "cell_type": "code",
   "execution_count": 108,
   "metadata": {},
   "outputs": [],
   "source": [
    "vna._inst.write(\"FORMat:DATA ASCii\")\n",
    "data3 = vna._inst.query(\"CALC:DATA:CHAN:ALL? FDAT\")\n",
    "f3 = np.array(data3.split(','),dtype=float)"
   ]
  },
  {
   "cell_type": "code",
   "execution_count": 43,
   "metadata": {},
   "outputs": [
    {
     "data": {
      "text/plain": [
       "24"
      ]
     },
     "execution_count": 43,
     "metadata": {},
     "output_type": "execute_result"
    }
   ],
   "source": [
    "vna._inst.write(\"DISPlay:LAYout:OVERlay\")"
   ]
  },
  {
   "cell_type": "code",
   "execution_count": 102,
   "metadata": {},
   "outputs": [
    {
     "data": {
      "text/plain": [
       "16"
      ]
     },
     "execution_count": 102,
     "metadata": {},
     "output_type": "execute_result"
    }
   ],
   "source": [
    "vna._inst.write(\"*RST\")\n",
    "vna._inst.write(\"SYSTEM:DISPLAY:UPDATE ON\")\n",
    "vna._inst.write(\"OUTPut:STATe 1\")"
   ]
  },
  {
   "cell_type": "code",
   "execution_count": 103,
   "metadata": {},
   "outputs": [],
   "source": [
    "meas = 'S11'\n",
    "data_format = 'SMIT'"
   ]
  },
  {
   "cell_type": "code",
   "execution_count": 1,
   "metadata": {},
   "outputs": [
    {
     "ename": "NameError",
     "evalue": "name 'vna' is not defined",
     "output_type": "error",
     "traceback": [
      "\u001b[1;31m---------------------------------------------------------------------------\u001b[0m",
      "\u001b[1;31mNameError\u001b[0m                                 Traceback (most recent call last)",
      "Cell \u001b[1;32mIn[1], line 1\u001b[0m\n\u001b[1;32m----> 1\u001b[0m \u001b[43mvna\u001b[49m\u001b[38;5;241m.\u001b[39m_inst\u001b[38;5;241m.\u001b[39mwrite(\u001b[38;5;124m\"\u001b[39m\u001b[38;5;124mSENS:FREQ:STAR 7.5 GHz; STOP 8.5 GHz\u001b[39m\u001b[38;5;124m\"\u001b[39m)\n\u001b[0;32m      2\u001b[0m vna\u001b[38;5;241m.\u001b[39m_inst\u001b[38;5;241m.\u001b[39mwrite(\u001b[38;5;124m\"\u001b[39m\u001b[38;5;124mCALC:PARAMETER:SDEFINE \u001b[39m\u001b[38;5;124m'\u001b[39m\u001b[38;5;124mTrc1\u001b[39m\u001b[38;5;124m'\u001b[39m\u001b[38;5;124m,\u001b[39m\u001b[38;5;124m'\u001b[39m\u001b[38;5;132;01m{}\u001b[39;00m\u001b[38;5;124m'\u001b[39m\u001b[38;5;124m; :CALC:FORM \u001b[39m\u001b[38;5;132;01m{}\u001b[39;00m\u001b[38;5;124m\"\u001b[39m\u001b[38;5;241m.\u001b[39mformat(meas,data_format))\n\u001b[0;32m      3\u001b[0m vna\u001b[38;5;241m.\u001b[39m_inst\u001b[38;5;241m.\u001b[39mwrite(\u001b[38;5;124m\"\u001b[39m\u001b[38;5;124mCALC:PARAMETER:SDEFINE \u001b[39m\u001b[38;5;124m'\u001b[39m\u001b[38;5;124mTrc2\u001b[39m\u001b[38;5;124m'\u001b[39m\u001b[38;5;124m,\u001b[39m\u001b[38;5;124m'\u001b[39m\u001b[38;5;132;01m{}\u001b[39;00m\u001b[38;5;124m'\u001b[39m\u001b[38;5;124m; :CALC:FORM PHAS\u001b[39m\u001b[38;5;124m\"\u001b[39m\u001b[38;5;241m.\u001b[39mformat(meas))\n",
      "\u001b[1;31mNameError\u001b[0m: name 'vna' is not defined"
     ]
    }
   ],
   "source": [
    "vna._inst.write(\"SENS:FREQ:STAR 7.5 GHz; STOP 8.5 GHz\")\n",
    "vna._inst.write(\"CALC:PARAMETER:SDEFINE 'Trc1','{}'; :CALC:FORM {}\".format(meas,data_format))\n",
    "vna._inst.write(\"CALC:PARAMETER:SDEFINE 'Trc2','{}'; :CALC:FORM PHAS\".format(meas))\n",
    "vna._inst.write(\"DISPLAY:WINDOW:STATE ON\")\n",
    "#vna._inst.write(\"DISPLAY:WINDOW:TRACE1:FEED 'Trc1'; :DISPLAY:WIND:TRAC1:Y:SCAL:AUTO ONCE\")\n",
    "vna._inst.write(\"DISPLAY:WINDOW:TRACE1:FEED 'Trc1'\")\n",
    "#vna._inst.write(\"DISPLAY:WINDOW1:TRAC1:Y:SCAL:AUTO ONCE\")\n",
    "\n",
    "\n",
    "#vna._inst.write(\"CALC:PARAMETER:SDEFINE 'Trc2','S21'\")\n",
    "#vna._inst.write(\"CALCULATE:PARAMETER:SELECT 'Trc2'\")\n",
    "#vna._inst.write(\"DISPLAY:WINDOW2:STATE ON\")\n",
    "#vna._inst.write(\"CALC:FORM PHAS\")\n",
    "#vna._inst.write(\"DISPLAY:WINDOW2:STATE ON\")\n",
    "vna._inst.write(\"DISPLAY:WINDOW:TRACE2:FEED 'Trc2'\")\n",
    "vna._inst.write(\"DISPLAY:WINDOW:TRACE2:SHOW 'Trc2', 1\")\n",
    "vna._inst.write(\"CALCULATE:PARAMETER:SELECT 'Trc1'\")\n",
    "#vna._inst.write(\"DISPlay:TRAC:Y:SCAL:AUTO ONCE, 'Trc2'\")\n",
    "#print(vna._inst.query(\"DISPlay:WINDow2:TRAC:CATalog?\"))"
   ]
  }
 ],
 "metadata": {
  "kernelspec": {
   "display_name": ".venv",
   "language": "python",
   "name": "python3"
  },
  "language_info": {
   "codemirror_mode": {
    "name": "ipython",
    "version": 3
   },
   "file_extension": ".py",
   "mimetype": "text/x-python",
   "name": "python",
   "nbconvert_exporter": "python",
   "pygments_lexer": "ipython3",
   "version": "3.12.1"
  }
 },
 "nbformat": 4,
 "nbformat_minor": 2
}
