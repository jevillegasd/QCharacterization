{
 "cells": [
  {
   "cell_type": "code",
   "execution_count": 5,
   "metadata": {},
   "outputs": [],
   "source": [
    "from qcodes import Instrument\n",
    "#from qcodes_contrib_drivers.drivers.ERAInstruments import ERASynthPlusPlus\n",
    "from ERASynthPP_driver import ERASynthPlusPlus\n"
   ]
  },
  {
   "cell_type": "code",
   "execution_count": 6,
   "metadata": {},
   "outputs": [
    {
     "name": "stdout",
     "output_type": "stream",
     "text": [
      "('USB0::0x2A8D::0x1601::MY60017338::0::INSTR', 'ASRL10::INSTR')\n",
      "Connected to: ERA Instruments ERASynth++ (serial:0081, firmware:v1.0.18) in 0.07s\n",
      "ERASynthPlusPlus:\n",
      "\tparameter                 value\n",
      "--------------------------------------------------------------------------------\n",
      "IDN                        :\t{'vendor': 'ERA Instruments', 'model': 'ERASynth...\n",
      "current                    :\t0.24 (V)\n",
      "debug_messages_en          :\tFalse \n",
      "embedded_version           :\tv1.0.18 \n",
      "frequency                  :\t8000000000 (Hz)\n",
      "modulation_am_depth        :\t20 (%)\n",
      "modulation_en              :\tFalse \n",
      "modulation_fm_deviation    :\t5000 (Hz)\n",
      "modulation_freq            :\t1000 (Hz)\n",
      "modulation_pulse_period    :\t0.002 (s)\n",
      "modulation_pulse_width     :\t0.001 (s)\n",
      "modulation_signal_waveform :\tsine \n",
      "modulation_source          :\tinternal \n",
      "modulation_type            :\tnarrowband_fm \n",
      "pll_lmx1_status            :\tunlocked \n",
      "pll_lmx2_status            :\tunlocked \n",
      "pll_xtal_status            :\tlocked \n",
      "power                      :\t-35 (dBm)\n",
      "ref_osc_source             :\tint \n",
      "reference_tcxo_ocxo        :\ttcxo \n",
      "status                     :\tFalse \n",
      "sweep_dwell                :\t1 (s)\n",
      "sweep_en                   :\tFalse \n",
      "sweep_start_frequency      :\t1000000000 (Hz)\n",
      "sweep_step_frequency       :\t1000000000 (Hz)\n",
      "sweep_stop_frequency       :\t6000000000 (Hz)\n",
      "sweep_trigger              :\tfreerun \n",
      "synthesizer_mode           :\tlow_spurious \n",
      "temperature                :\t35.8 (°C)\n",
      "timeout                    :\t10 (s)\n",
      "voltage                    :\t5.24 (V)\n",
      "wifi_gateway_address       :\t222.222.222.222 \n",
      "wifi_hotspot_password      :\t \n",
      "wifi_hotspot_ssid          :\t \n",
      "wifi_ip_address            :\t222.222.222.222 \n",
      "wifi_mode                  :\t \n",
      "wifi_rssi                  :\t \n",
      "wifi_station_password      :\t \n",
      "wifi_station_ssid          :\t \n",
      "wifi_subnet_address        :\t222.222.222.222 \n"
     ]
    }
   ],
   "source": [
    "Instrument.close_all()\n",
    "# list communication ports\n",
    "ERASynthPlusPlus.print_pyvisa_resources()\n",
    "\n",
    "# Instantiate the instrument\n",
    "lo = ERASynthPlusPlus('ERASynthPlusPlus', 'ASRL10::INSTR')\n",
    "\n",
    "lo.off()  # Turn off the output\n",
    "\n",
    "# print updated snapshot once to make sure the snapshot will be up-to-date\n",
    "# takes a few seconds\n",
    "#lo.print_readable_snapshot(update=True)\n",
    "\n",
    "# Configure the local oscillator\n",
    "lo.ref_osc_source(\"int\")  # Use internal reference\n",
    "#lo.frequency(6e9)\n",
    "lo.set_RF(8e9)\n",
    "#lo.power(-30)  # Set the amplitude to 10 dBm\n",
    "lo.set_level(-35)\n",
    "lo.off()  # Turn on the output\n",
    "lo.print_readable_snapshot(update=True)"
   ]
  },
  {
   "cell_type": "code",
   "execution_count": 7,
   "metadata": {},
   "outputs": [],
   "source": [
    "lo.off()\n",
    "lo.close()"
   ]
  },
  {
   "cell_type": "code",
   "execution_count": 16,
   "metadata": {},
   "outputs": [
    {
     "name": "stdout",
     "output_type": "stream",
     "text": [
      "('USB0::0x2A8D::0x1601::MY60017338::0::INSTR', 'ASRL10::INSTR')\n",
      "Connected to: ERA Instruments ERASynth++ (serial:0081, firmware:v1.0.18) in 0.06s\n"
     ]
    }
   ],
   "source": [
    "ERASynthPlusPlus.print_pyvisa_resources()\n",
    "lo = ERASynthPlusPlus('ERASynthPlusPlus', 'ASRL10::INSTR')"
   ]
  },
  {
   "cell_type": "code",
   "execution_count": null,
   "metadata": {},
   "outputs": [],
   "source": [
    "from ERASynth_driver import *\n",
    "from time import sleep\n",
    "\n",
    "\n",
    "# For era synth\n",
    "lo = ERASynth_driver(port='COM10', baudrate=9600) # it should be 9600, however\n",
    "                                  # it could be COM4, COM3 or other number\n",
    "                                  # at the end of COM.\n",
    "sleep(1)\n",
    "lo.open()\n",
    "#lo.log()\n"
   ]
  },
  {
   "cell_type": "code",
   "execution_count": null,
   "metadata": {},
   "outputs": [],
   "source": [
    "import serial\n",
    "ser = serial.Serial()\n",
    "ser.port = \"COM10\"\n",
    "ser.baudrate = 9600\n",
    "ser.open()\n",
    "ser.isOpen()\n",
    "#ser.close()\n"
   ]
  },
  {
   "cell_type": "code",
   "execution_count": null,
   "metadata": {},
   "outputs": [],
   "source": [
    "ser.close()\n",
    "ser.isOpen()"
   ]
  }
 ],
 "metadata": {
  "kernelspec": {
   "display_name": ".venv",
   "language": "python",
   "name": "python3"
  },
  "language_info": {
   "codemirror_mode": {
    "name": "ipython",
    "version": 3
   },
   "file_extension": ".py",
   "mimetype": "text/x-python",
   "name": "python",
   "nbconvert_exporter": "python",
   "pygments_lexer": "ipython3",
   "version": "3.12.1"
  }
 },
 "nbformat": 4,
 "nbformat_minor": 2
}
